{
 "cells": [
  {
   "cell_type": "code",
   "execution_count": 1,
   "id": "0c89a6b2",
   "metadata": {},
   "outputs": [],
   "source": [
    "import pandas as pd\n",
    "import numpy as np"
   ]
  },
  {
   "cell_type": "code",
   "execution_count": 2,
   "id": "b8693b88",
   "metadata": {},
   "outputs": [
    {
     "data": {
      "text/html": [
       "<div>\n",
       "<style scoped>\n",
       "    .dataframe tbody tr th:only-of-type {\n",
       "        vertical-align: middle;\n",
       "    }\n",
       "\n",
       "    .dataframe tbody tr th {\n",
       "        vertical-align: top;\n",
       "    }\n",
       "\n",
       "    .dataframe thead th {\n",
       "        text-align: right;\n",
       "    }\n",
       "</style>\n",
       "<table border=\"1\" class=\"dataframe\">\n",
       "  <thead>\n",
       "    <tr style=\"text-align: right;\">\n",
       "      <th></th>\n",
       "      <th>RequisitionID</th>\n",
       "      <th>CleanedJobTitle</th>\n",
       "      <th>JobDescription</th>\n",
       "    </tr>\n",
       "  </thead>\n",
       "  <tbody>\n",
       "    <tr>\n",
       "      <th>0</th>\n",
       "      <td>NaN</td>\n",
       "      <td>Licensed Stationary Engineer</td>\n",
       "      <td>Licensed Stationary Engineer Froedtert South K...</td>\n",
       "    </tr>\n",
       "    <tr>\n",
       "      <th>1</th>\n",
       "      <td>00000224907</td>\n",
       "      <td>Guidance Navigation Control GNC Engineer Lead</td>\n",
       "      <td>The Boeing Company search Lead Guidance Naviga...</td>\n",
       "    </tr>\n",
       "    <tr>\n",
       "      <th>2</th>\n",
       "      <td>00000331804</td>\n",
       "      <td>Propulsion Engineer Associate MidLevel Experie...</td>\n",
       "      <td>Job Description At Boeing innovate collaborate...</td>\n",
       "    </tr>\n",
       "    <tr>\n",
       "      <th>3</th>\n",
       "      <td>00000336462</td>\n",
       "      <td>Senior Process Controls Engineer</td>\n",
       "      <td>Job Description At Boeing innovate collaborate...</td>\n",
       "    </tr>\n",
       "    <tr>\n",
       "      <th>4</th>\n",
       "      <td>00000338951</td>\n",
       "      <td>RFMicrowave Engineer Level</td>\n",
       "      <td>Job Description At Boeing innovate collaborate...</td>\n",
       "    </tr>\n",
       "  </tbody>\n",
       "</table>\n",
       "</div>"
      ],
      "text/plain": [
       "  RequisitionID                                    CleanedJobTitle  \\\n",
       "0           NaN                       Licensed Stationary Engineer   \n",
       "1   00000224907      Guidance Navigation Control GNC Engineer Lead   \n",
       "2   00000331804  Propulsion Engineer Associate MidLevel Experie...   \n",
       "3   00000336462                   Senior Process Controls Engineer   \n",
       "4   00000338951                         RFMicrowave Engineer Level   \n",
       "\n",
       "                                      JobDescription  \n",
       "0  Licensed Stationary Engineer Froedtert South K...  \n",
       "1  The Boeing Company search Lead Guidance Naviga...  \n",
       "2  Job Description At Boeing innovate collaborate...  \n",
       "3  Job Description At Boeing innovate collaborate...  \n",
       "4  Job Description At Boeing innovate collaborate...  "
      ]
     },
     "execution_count": 2,
     "metadata": {},
     "output_type": "execute_result"
    }
   ],
   "source": [
    "df = pd.read_csv('New_Cleaned_Engineer.csv')\n",
    "df.head()"
   ]
  },
  {
   "cell_type": "markdown",
   "id": "534d5c95",
   "metadata": {},
   "source": [
    "First row doesn't have a requisitionID, so we will get rid of it"
   ]
  },
  {
   "cell_type": "code",
   "execution_count": 3,
   "id": "d96b3b49",
   "metadata": {},
   "outputs": [
    {
     "data": {
      "text/html": [
       "<div>\n",
       "<style scoped>\n",
       "    .dataframe tbody tr th:only-of-type {\n",
       "        vertical-align: middle;\n",
       "    }\n",
       "\n",
       "    .dataframe tbody tr th {\n",
       "        vertical-align: top;\n",
       "    }\n",
       "\n",
       "    .dataframe thead th {\n",
       "        text-align: right;\n",
       "    }\n",
       "</style>\n",
       "<table border=\"1\" class=\"dataframe\">\n",
       "  <thead>\n",
       "    <tr style=\"text-align: right;\">\n",
       "      <th></th>\n",
       "      <th>RequisitionID</th>\n",
       "      <th>CleanedJobTitle</th>\n",
       "      <th>JobDescription</th>\n",
       "    </tr>\n",
       "  </thead>\n",
       "  <tbody>\n",
       "    <tr>\n",
       "      <th>0</th>\n",
       "      <td>00000224907</td>\n",
       "      <td>Guidance Navigation Control GNC Engineer Lead</td>\n",
       "      <td>The Boeing Company search Lead Guidance Naviga...</td>\n",
       "    </tr>\n",
       "    <tr>\n",
       "      <th>1</th>\n",
       "      <td>00000331804</td>\n",
       "      <td>Propulsion Engineer Associate MidLevel Experie...</td>\n",
       "      <td>Job Description At Boeing innovate collaborate...</td>\n",
       "    </tr>\n",
       "    <tr>\n",
       "      <th>2</th>\n",
       "      <td>00000336462</td>\n",
       "      <td>Senior Process Controls Engineer</td>\n",
       "      <td>Job Description At Boeing innovate collaborate...</td>\n",
       "    </tr>\n",
       "    <tr>\n",
       "      <th>3</th>\n",
       "      <td>00000338951</td>\n",
       "      <td>RFMicrowave Engineer Level</td>\n",
       "      <td>Job Description At Boeing innovate collaborate...</td>\n",
       "    </tr>\n",
       "    <tr>\n",
       "      <th>4</th>\n",
       "      <td>00000339390</td>\n",
       "      <td>Interior Stress Analysis Engineer Career Expert</td>\n",
       "      <td>Job Description At Boeing innovate collaborate...</td>\n",
       "    </tr>\n",
       "  </tbody>\n",
       "</table>\n",
       "</div>"
      ],
      "text/plain": [
       "  RequisitionID                                    CleanedJobTitle  \\\n",
       "0   00000224907      Guidance Navigation Control GNC Engineer Lead   \n",
       "1   00000331804  Propulsion Engineer Associate MidLevel Experie...   \n",
       "2   00000336462                   Senior Process Controls Engineer   \n",
       "3   00000338951                         RFMicrowave Engineer Level   \n",
       "4   00000339390    Interior Stress Analysis Engineer Career Expert   \n",
       "\n",
       "                                      JobDescription  \n",
       "0  The Boeing Company search Lead Guidance Naviga...  \n",
       "1  Job Description At Boeing innovate collaborate...  \n",
       "2  Job Description At Boeing innovate collaborate...  \n",
       "3  Job Description At Boeing innovate collaborate...  \n",
       "4  Job Description At Boeing innovate collaborate...  "
      ]
     },
     "execution_count": 3,
     "metadata": {},
     "output_type": "execute_result"
    }
   ],
   "source": [
    "df.drop(df.index[0],inplace = True)\n",
    "df.reset_index(drop = True, inplace = True)\n",
    "df.head()"
   ]
  },
  {
   "cell_type": "code",
   "execution_count": 4,
   "id": "c147de20",
   "metadata": {},
   "outputs": [
    {
     "data": {
      "text/html": [
       "<div>\n",
       "<style scoped>\n",
       "    .dataframe tbody tr th:only-of-type {\n",
       "        vertical-align: middle;\n",
       "    }\n",
       "\n",
       "    .dataframe tbody tr th {\n",
       "        vertical-align: top;\n",
       "    }\n",
       "\n",
       "    .dataframe thead th {\n",
       "        text-align: right;\n",
       "    }\n",
       "</style>\n",
       "<table border=\"1\" class=\"dataframe\">\n",
       "  <thead>\n",
       "    <tr style=\"text-align: right;\">\n",
       "      <th></th>\n",
       "      <th>RequisitionID</th>\n",
       "      <th>CleanedJobTitle</th>\n",
       "      <th>JobDescription</th>\n",
       "    </tr>\n",
       "  </thead>\n",
       "  <tbody>\n",
       "    <tr>\n",
       "      <th>0</th>\n",
       "      <td>00000224907</td>\n",
       "      <td>Guidance Navigation Control GNC Engineer Lead</td>\n",
       "      <td>The Boeing Company search Lead Guidance Naviga...</td>\n",
       "    </tr>\n",
       "    <tr>\n",
       "      <th>1</th>\n",
       "      <td>00000331804</td>\n",
       "      <td>Propulsion Engineer Associate MidLevel Experie...</td>\n",
       "      <td>Job Description At Boeing innovate collaborate...</td>\n",
       "    </tr>\n",
       "    <tr>\n",
       "      <th>2</th>\n",
       "      <td>00000336462</td>\n",
       "      <td>Senior Process Controls Engineer</td>\n",
       "      <td>Job Description At Boeing innovate collaborate...</td>\n",
       "    </tr>\n",
       "    <tr>\n",
       "      <th>3</th>\n",
       "      <td>00000338951</td>\n",
       "      <td>RFMicrowave Engineer Level</td>\n",
       "      <td>Job Description At Boeing innovate collaborate...</td>\n",
       "    </tr>\n",
       "    <tr>\n",
       "      <th>4</th>\n",
       "      <td>00000339390</td>\n",
       "      <td>Interior Stress Analysis Engineer Career Expert</td>\n",
       "      <td>Job Description At Boeing innovate collaborate...</td>\n",
       "    </tr>\n",
       "    <tr>\n",
       "      <th>...</th>\n",
       "      <td>...</td>\n",
       "      <td>...</td>\n",
       "      <td>...</td>\n",
       "    </tr>\n",
       "    <tr>\n",
       "      <th>20131</th>\n",
       "      <td>WYMP-23-12039375-MG</td>\n",
       "      <td>Mining Engineer</td>\n",
       "      <td>Summary Explore new career BLM people precious...</td>\n",
       "    </tr>\n",
       "    <tr>\n",
       "      <th>20132</th>\n",
       "      <td>Y7193L</td>\n",
       "      <td>STATIONARY ENGINEER HELPER</td>\n",
       "      <td>STATIONARY ENGINEER HELPER Print http .?jobID3...</td>\n",
       "    </tr>\n",
       "    <tr>\n",
       "      <th>20133</th>\n",
       "      <td>Y7198M</td>\n",
       "      <td>STATIONARY ENGINEER II</td>\n",
       "      <td>STATIONARY ENGINEER II Print http .?jobID29656...</td>\n",
       "    </tr>\n",
       "    <tr>\n",
       "      <th>20134</th>\n",
       "      <td>Y7200A</td>\n",
       "      <td>STATIONARY ENGINEER CONTROLS SPECIALIST</td>\n",
       "      <td>STATIONARY ENGINEER CONTROLS SPECIALIST Print ...</td>\n",
       "    </tr>\n",
       "    <tr>\n",
       "      <th>20135</th>\n",
       "      <td>Y7203D</td>\n",
       "      <td>CHIEF STATIONARY ENGINEER</td>\n",
       "      <td>CHIEF STATIONARY ENGINEER Print http .?jobID36...</td>\n",
       "    </tr>\n",
       "  </tbody>\n",
       "</table>\n",
       "<p>20136 rows × 3 columns</p>\n",
       "</div>"
      ],
      "text/plain": [
       "             RequisitionID                                    CleanedJobTitle  \\\n",
       "0              00000224907      Guidance Navigation Control GNC Engineer Lead   \n",
       "1              00000331804  Propulsion Engineer Associate MidLevel Experie...   \n",
       "2              00000336462                   Senior Process Controls Engineer   \n",
       "3              00000338951                         RFMicrowave Engineer Level   \n",
       "4              00000339390    Interior Stress Analysis Engineer Career Expert   \n",
       "...                    ...                                                ...   \n",
       "20131  WYMP-23-12039375-MG                                    Mining Engineer   \n",
       "20132               Y7193L                         STATIONARY ENGINEER HELPER   \n",
       "20133               Y7198M                             STATIONARY ENGINEER II   \n",
       "20134               Y7200A            STATIONARY ENGINEER CONTROLS SPECIALIST   \n",
       "20135               Y7203D                          CHIEF STATIONARY ENGINEER   \n",
       "\n",
       "                                          JobDescription  \n",
       "0      The Boeing Company search Lead Guidance Naviga...  \n",
       "1      Job Description At Boeing innovate collaborate...  \n",
       "2      Job Description At Boeing innovate collaborate...  \n",
       "3      Job Description At Boeing innovate collaborate...  \n",
       "4      Job Description At Boeing innovate collaborate...  \n",
       "...                                                  ...  \n",
       "20131  Summary Explore new career BLM people precious...  \n",
       "20132  STATIONARY ENGINEER HELPER Print http .?jobID3...  \n",
       "20133  STATIONARY ENGINEER II Print http .?jobID29656...  \n",
       "20134  STATIONARY ENGINEER CONTROLS SPECIALIST Print ...  \n",
       "20135  CHIEF STATIONARY ENGINEER Print http .?jobID36...  \n",
       "\n",
       "[20136 rows x 3 columns]"
      ]
     },
     "execution_count": 4,
     "metadata": {},
     "output_type": "execute_result"
    }
   ],
   "source": [
    "df"
   ]
  },
  {
   "cell_type": "code",
   "execution_count": 5,
   "id": "541fd4a3",
   "metadata": {},
   "outputs": [
    {
     "data": {
      "text/plain": [
       "20136"
      ]
     },
     "execution_count": 5,
     "metadata": {},
     "output_type": "execute_result"
    }
   ],
   "source": [
    "df['RequisitionID'].nunique()"
   ]
  },
  {
   "cell_type": "markdown",
   "id": "b09258fd",
   "metadata": {},
   "source": [
    "Confirmed that all ID's are unique for all rows"
   ]
  },
  {
   "cell_type": "code",
   "execution_count": 6,
   "id": "cef19688",
   "metadata": {},
   "outputs": [],
   "source": [
    "import openai"
   ]
  },
  {
   "cell_type": "code",
   "execution_count": 7,
   "id": "16a44459",
   "metadata": {},
   "outputs": [],
   "source": [
    "openai.api_key = \"\""
   ]
  },
  {
   "cell_type": "markdown",
   "id": "403072d8",
   "metadata": {},
   "source": [
    "Seeing if the API works"
   ]
  },
  {
   "cell_type": "code",
   "execution_count": 8,
   "id": "dedd8564",
   "metadata": {},
   "outputs": [
    {
     "name": "stdout",
     "output_type": "stream",
     "text": [
      "{\n",
      "  \"role\": \"assistant\",\n",
      "  \"content\": \"Hello! How can I assist you today?\"\n",
      "}\n"
     ]
    }
   ],
   "source": [
    "# Define the user prompt message\n",
    "prompt = \"Hello!\"\n",
    "# Create a chatbot using ChatCompletion.create() function\n",
    "completion = openai.ChatCompletion.create(\n",
    "  # Use GPT 3.5 as the LLM\n",
    "  model=\"gpt-3.5-turbo\",\n",
    "  # Pre-define conversation messages for the possible roles\n",
    "  messages=[\n",
    "    {\"role\": \"system\", \"content\": \"You are a helpful assistant.\"},\n",
    "    {\"role\": \"user\", \"content\": prompt}\n",
    "  ]\n",
    ")\n",
    "# Print the returned output from the LLM model\n",
    "print(completion.choices[0].message)"
   ]
  },
  {
   "cell_type": "code",
   "execution_count": 16,
   "id": "582e4322",
   "metadata": {},
   "outputs": [
    {
     "data": {
      "text/plain": [
       "9384    Flight Controls Engineer Description Who Are Textron Systems part Textron 14 billion multiindustry company employing 35 000 talented makers thinkers creators doers worldwide. make things fly hover zoom launch. Things move people. Protect soldiers. Power industries. serve customers industries spanning aerospace defense specialized vehicles turf care fuel systems. This role Textron Systems Weapon Systems business area. Visit read products make! Flight Controls Engineer Individual experienced design modeling aspects electromechanical hydraulic actuation control jet flight control subsystems use hypersonic flight dynamics control theory analysis desired. Ability conduct flight dynamics controls research hypersonic vehicles plus. successful candidate highly motivated possess detailed knowledge following aerodynamics vehicle dynamics control system design analysis areas 6 DOF vehicle modeling Flight trajectory analysis Control system design Multimodal control complex flight conditions Numerical methods improve trajectory analyses system effectiveness. Demonstrated proficiency using MATLAB C hypersonic flight dynamics control modeling. Autopilot guidance laws modeling Control surface aeroelastic control modeling HardwareintheLoop testing System accuracy performance assessment Qualifications Qualifications . . engineering relevant professional experience Active Secret clearance preferred ability obtain security clearance required. How Care At Textron Systems talented people make us promote inclusive environment value individuality differences unique perspectives. Our Company committed offering employees opportunities grow develop. benefits compensation packages designed help talented employees excel achieve goals make difference every day outside workplace. examples! Flexible Work Schedules Education Assistance Career Development Training Opportunities Wellness Program including Fitness Reimbursement Medical Dental Vision 401K Company Funding Paid Parental Leave Are Military Veteran? Textrons products services trusted everyday protect dedicated hiring Veterans aim translate skills make impact Company. EEO Statement Textron committed providing Equal Opportunity Employment applicants employees regardless of race color religion gender age national origin military status veteran status handicap physical mental disability sexual orientation gender identity genetic information characteristic protected law. Job Engineering Primary Location USMassachusettsWilmington Recruiting Company Textron Systems Schedule Fulltime Job Level Individual Contributor Shift First Shift Req ID 314006\n",
       "Name: JobDescription, dtype: object"
      ]
     },
     "execution_count": 16,
     "metadata": {},
     "output_type": "execute_result"
    }
   ],
   "source": [
    "import random\n",
    "random_job_description = df.sample(n=1)['JobDescription']\n",
    "pd.set_option('display.max_colwidth', None)\n",
    "random_job_description"
   ]
  },
  {
   "cell_type": "code",
   "execution_count": 17,
   "id": "ba8c4422",
   "metadata": {},
   "outputs": [
    {
     "data": {
      "text/plain": [
       "'9384    Flight Controls Engineer Description Who Are Textron Systems part Textron 14 billion multiindustry company employing 35 000 talented makers thinkers creators doers worldwide. make things fly hover zoom launch. Things move people. Protect soldiers. Power industries. serve customers industries spanning aerospace defense specialized vehicles turf care fuel systems. This role Textron Systems Weapon Systems business area. Visit read products make! Flight Controls Engineer Individual experienced design modeling aspects electromechanical hydraulic actuation control jet flight control subsystems use hypersonic flight dynamics control theory analysis desired. Ability conduct flight dynamics controls research hypersonic vehicles plus. successful candidate highly motivated possess detailed knowledge following aerodynamics vehicle dynamics control system design analysis areas 6 DOF vehicle modeling Flight trajectory analysis Control system design Multimodal control complex flight conditions Numerical methods improve trajectory analyses system effectiveness. Demonstrated proficiency using MATLAB C hypersonic flight dynamics control modeling. Autopilot guidance laws modeling Control surface aeroelastic control modeling HardwareintheLoop testing System accuracy performance assessment Qualifications Qualifications . . engineering relevant professional experience Active Secret clearance preferred ability obtain security clearance required. How Care At Textron Systems talented people make us promote inclusive environment value individuality differences unique perspectives. Our Company committed offering employees opportunities grow develop. benefits compensation packages designed help talented employees excel achieve goals make difference every day outside workplace. examples! Flexible Work Schedules Education Assistance Career Development Training Opportunities Wellness Program including Fitness Reimbursement Medical Dental Vision 401K Company Funding Paid Parental Leave Are Military Veteran? Textrons products services trusted everyday protect dedicated hiring Veterans aim translate skills make impact Company. EEO Statement Textron committed providing Equal Opportunity Employment applicants employees regardless of race color religion gender age national origin military status veteran status handicap physical mental disability sexual orientation gender identity genetic information characteristic protected law. Job Engineering Primary Location USMassachusettsWilmington Recruiting Company Textron Systems Schedule Fulltime Job Level Individual Contributor Shift First Shift Req ID 314006\\nName: JobDescription, dtype: object'"
      ]
     },
     "execution_count": 17,
     "metadata": {},
     "output_type": "execute_result"
    }
   ],
   "source": [
    "json_random_job_description = str(random_job_description)\n",
    "json_random_job_description"
   ]
  },
  {
   "cell_type": "code",
   "execution_count": 18,
   "id": "30dd0ffc",
   "metadata": {},
   "outputs": [
    {
     "name": "stdout",
     "output_type": "stream",
     "text": [
      "{\n",
      "  \"role\": \"assistant\",\n",
      "  \"content\": \"{\\n  \\\"Marketing\\\": [\\n    \\\"Who Are Textron Systems part Textron 14 billion multiindustry company employing 35 000 talented makers thinkers creators doers worldwide.\\\",\\n    \\\"make things fly hover zoom launch.\\\",\\n    \\\"Things move people.\\\",\\n    \\\"Protect soldiers.\\\",\\n    \\\"Power industries.\\\",\\n    \\\"serve customers industries spanning aerospace defense specialized vehicles turf care fuel systems.\\\",\\n    \\\"This role Textron Systems Weapon Systems business area.\\\",\\n    \\\"Visit read products make!\\\",\\n    \\\"How Care At Textron Systems talented people make us promote inclusive environment value individuality differences unique perspectives.\\\",\\n    \\\"Our Company committed offering employees opportunities grow develop.\\\",\\n    \\\"benefits compensation packages designed help talented employees excel achieve goals make difference every day outside workplace.\\\",\\n    \\\"examples!\\\",\\n    \\\"Flexible Work Schedules\\\",\\n    \\\"Education Assistance\\\",\\n    \\\"Career Development Training Opportunities\\\",\\n    \\\"Wellness Program including Fitness Reimbursement\\\",\\n    \\\"Medical Dental Vision\\\",\\n    \\\"401K Company Funding\\\",\\n    \\\"Paid Parental Leave\\\",\\n    \\\"Are Military Veteran?\\\",\\n    \\\"Textrons products services trusted everyday protect dedicated hiring Veterans aim translate skills make impact Company.\\\"\\n  ],\\n  \\\"Description\\\": [\\n    \\\"Flight Controls Engineer Individual experienced design modeling aspects electromechanical hydraulic actuation control jet flight control subsystems use hypersonic flight dynamics control theory analysis desired.\\\",\\n    \\\"Ability conduct flight dynamics controls research hypersonic vehicles plus.\\\",\\n    \\\"Demonstrated proficiency using MATLAB C hypersonic flight dynamics control modeling.\\\",\\n    \\\"Autopilot guidance laws modeling Control surface aeroelastic control modeling HardwareintheLoop testing System accuracy performance assessment\\\"\\n  ],\\n  \\\"Requirements\\\": [\\n    \\\"Qualifications . . engineering relevant professional experience Active Secret clearance preferred ability obtain security clearance required.\\\"\\n  ],\\n  \\\"Legal\\\": [\\n    \\\"EEO Statement Textron committed providing Equal Opportunity Employment applicants employees regardless of race color religion gender age national origin military status veteran status handicap physical mental disability sexual orientation gender identity genetic information characteristic protected law.\\\"\\n  ]\\n}\"\n",
      "}\n"
     ]
    }
   ],
   "source": [
    "# Define the user prompt message\n",
    "prompt = json_random_job_description\n",
    "# Create a chatbot using ChatCompletion.create() function\n",
    "completion = openai.ChatCompletion.create(\n",
    "  # Use GPT 3.5 as the LLM\n",
    "  model=\"gpt-3.5-turbo\",\n",
    "  # Pre-define conversation messages for the possible roles\n",
    "  messages=[\n",
    "    {\"role\": \"system\", \"content\": \"\"\"I want you to act as a career counselor. I am going to give you a job description \n",
    "    that a student is interested in, and you will help them determine what part of the job description is marketing, \n",
    "    description, requirements, and legal. Marketing tends to talk about company culture, perks and benefits, growth \n",
    "    oppurtunities, exciting challenges, team and leadership, company achievements, and work life balance. The description \n",
    "    focuses on your role, responsibilities, and who you report to or who reports to you. Requirements talk about skills, \n",
    "    qualifications, and experience. Lastly, legal talks about equal oppurtunity statements, visa requirements, background \n",
    "    checks and contractual obligations. You should also conduct research into job postings similar as this, as that could \n",
    "    help you solve this task. My first request is to return every sentence labeled in one of the 4 categories given and return \n",
    "    it in JSON format. We want to focus on making sure that we are not mislabeling any part of the description as marketing, \n",
    "    requirements, or legals, and it is more acceptable to have more then we need in the description, then be missing out on \n",
    "    important descriptions for the job. Each sentence should be labeled only once. There shouldn't be repeated sentences returned. \n",
    "    However, every sentence from the original job description needs to be accounted for. If there's any mentions of numbers, \n",
    "    it probably should be in the requirements section.\"\"\"},\n",
    "    {\"role\": \"user\", \"content\": prompt}\n",
    "  ]\n",
    ")\n",
    "# Print the returned output from the LLM model\n",
    "print(completion.choices[0].message)"
   ]
  }
 ],
 "metadata": {
  "kernelspec": {
   "display_name": "candogram",
   "language": "python",
   "name": "candogram"
  },
  "language_info": {
   "codemirror_mode": {
    "name": "ipython",
    "version": 3
   },
   "file_extension": ".py",
   "mimetype": "text/x-python",
   "name": "python",
   "nbconvert_exporter": "python",
   "pygments_lexer": "ipython3",
   "version": "3.11.0"
  }
 },
 "nbformat": 4,
 "nbformat_minor": 5
}
