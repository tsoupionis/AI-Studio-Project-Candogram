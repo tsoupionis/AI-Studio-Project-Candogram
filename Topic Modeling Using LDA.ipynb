{
 "cells": [
  {
   "cell_type": "code",
   "execution_count": 1,
   "id": "417d162d",
   "metadata": {
    "scrolled": true
   },
   "outputs": [],
   "source": [
    "import numpy as np\n",
    "import pandas as pd\n",
    "import gensim\n",
    "import gensim.corpora \n",
    "from gensim.utils import simple_preprocess\n",
    "from gensim.models import CoherenceModel\n",
    "import spacy \n",
    "from nltk.corpus import stopwords\n",
    "import pyLDAvis\n",
    "import pyLDAvis.gensim_models\n",
    "import warnings\n",
    "warnings.filterwarnings(\"ignore\", category = DeprecationWarning)"
   ]
  },
  {
   "cell_type": "code",
   "execution_count": 2,
   "id": "b4c24bcc",
   "metadata": {
    "scrolled": true
   },
   "outputs": [
    {
     "data": {
      "text/plain": [
       "0        {\"description\": [\"Selected candidates work wid...\n",
       "1        {\"description\": [\"core organization supports p...\n",
       "2        {\"description\": [\"As Senior Process Controls E...\n",
       "3        {\"description\": [\"Performs trade studies model...\n",
       "4        {\"description\": [\"This position must meet Expo...\n",
       "                               ...                        \n",
       "18530    {\"description\": [\"Dynetics wholly owned subsid...\n",
       "18531    {\"description\": [\"Siemens Healthineers continu...\n",
       "18532    {\"description\": [\"The EngineerOperator respons...\n",
       "18533    {\"description\": [\"Pyramid Global Hospitality o...\n",
       "18534    {\"description\": [\"Must bring least 2 years equ...\n",
       "Name: EditedJobDescription, Length: 18535, dtype: object"
      ]
     },
     "execution_count": 2,
     "metadata": {},
     "output_type": "execute_result"
    }
   ],
   "source": [
    "df = pd.read_csv(\"Only_Description_Sentences.csv\")[\"EditedJobDescription\"]\n",
    "df"
   ]
  },
  {
   "cell_type": "code",
   "execution_count": 3,
   "id": "be8768d7",
   "metadata": {},
   "outputs": [
    {
     "name": "stdout",
     "output_type": "stream",
     "text": [
      "{\"description\": [\"Selected candidates work wide range programs provide state art Guidance \n"
     ]
    }
   ],
   "source": [
    "print(df[0][0:90])"
   ]
  },
  {
   "cell_type": "code",
   "execution_count": 4,
   "id": "074d659c",
   "metadata": {},
   "outputs": [
    {
     "name": "stdout",
     "output_type": "stream",
     "text": [
      "description selected candidate work wide range program provide state art performance analy\n"
     ]
    }
   ],
   "source": [
    "def lemmatization(texts, allowed_postags=[\"NOUN\", \"ADJ\", \"VERB\", \"ADV\"]):\n",
    "    nlp = spacy.load(\"en_core_web_sm\", disable=[\"parser\", \"ner\"])\n",
    "    texts_out = []\n",
    "    for text in texts:\n",
    "        # Convert non-string input to string\n",
    "        if not isinstance(text, str):\n",
    "            text = str(text)\n",
    "        \n",
    "        doc = nlp(text)\n",
    "        new_text = []\n",
    "        for token in doc:\n",
    "            if token.pos_ in allowed_postags:\n",
    "                new_text.append(token.lemma_)\n",
    "        final = \" \".join(new_text)\n",
    "        texts_out.append(final)\n",
    "    return texts_out\n",
    "\n",
    "lemmatized_texts = lemmatization(df)\n",
    "print(lemmatized_texts[0][:90])"
   ]
  },
  {
   "cell_type": "code",
   "execution_count": 5,
   "id": "b102cf6d",
   "metadata": {},
   "outputs": [
    {
     "name": "stdout",
     "output_type": "stream",
     "text": [
      "['selected', 'candidate', 'wide', 'range', 'program', 'provide', 'state', 'art', 'performance', 'analysis', 'simulation', 'solution', 'customer', 'mission', 'trajectory', 'ensure', 'traceability', 'quality', 'system', 'level']\n"
     ]
    }
   ],
   "source": [
    "custom_stop_words = [\"description\", \"responsibilities\", \"responsible\", \"responsibility\", \"requirements\", \"required\", \"require\", \"requirement\", \"duties\", \"to\", \"the\", \"engineering\", \"engineer\", \"engineers\", \"job\", \"perform\", \"performs\", \"position\", \"may\", \"team\", \"work\", \"include\",\"including\", \"assigned\", \"experience\"]\n",
    "\n",
    "def gen_words(texts):\n",
    "    final = []\n",
    "    for text in texts:\n",
    "        new = gensim.utils.simple_preprocess(text, deacc=True)\n",
    "        # Exclude words that are in the words_to_avoid set\n",
    "        new = [word for word in new if word not in custom_stop_words]\n",
    "        final.append(new)\n",
    "    return final\n",
    "\n",
    "data_words = gen_words(lemmatized_texts)\n",
    "\n",
    "print(data_words[0][:20])"
   ]
  },
  {
   "cell_type": "code",
   "execution_count": 6,
   "id": "c3f37796",
   "metadata": {},
   "outputs": [
    {
     "name": "stdout",
     "output_type": "stream",
     "text": [
      "['selected', 'candidate', 'wide_range', 'program', 'provide', 'state_art', 'performance', 'analysis', 'simulation', 'solution', 'customer', 'mission', 'trajectory', 'ensure', 'traceability', 'quality', 'system', 'level', 'component', 'level']\n"
     ]
    }
   ],
   "source": [
    "#BIGRAMS AND TRIGRAMS\n",
    "bigram_phrases = gensim.models.Phrases(data_words, min_count=5, threshold=100)\n",
    "trigram_phrases = gensim.models.Phrases(bigram_phrases[data_words], threshold=100)\n",
    "\n",
    "bigram = gensim.models.phrases.Phraser(bigram_phrases)\n",
    "trigram = gensim.models.phrases.Phraser(trigram_phrases)\n",
    "\n",
    "def make_bigrams(texts):\n",
    "    return([bigram[doc] for doc in texts])\n",
    "\n",
    "def make_trigrams(texts):\n",
    "    return ([trigram[bigram[doc]] for doc in texts])\n",
    "\n",
    "data_bigrams = make_bigrams(data_words)\n",
    "data_bigrams_trigrams = make_trigrams(data_bigrams)\n",
    "\n",
    "print (data_bigrams_trigrams[0][0:20])"
   ]
  },
  {
   "cell_type": "code",
   "execution_count": 7,
   "id": "e38455c6",
   "metadata": {},
   "outputs": [],
   "source": [
    "#TF-IDF REMOVAL\n",
    "from gensim.models import TfidfModel\n",
    "\n",
    "id2word = gensim.corpora.Dictionary(data_bigrams_trigrams)\n",
    "\n",
    "texts = data_bigrams_trigrams\n",
    "\n",
    "corpus = [id2word.doc2bow(text) for text in texts]\n",
    "# print (corpus[0][0:20])\n",
    "\n",
    "tfidf = TfidfModel(corpus, id2word=id2word)\n",
    "\n",
    "low_value = 0.03\n",
    "words  = []\n",
    "words_missing_in_tfidf = []\n",
    "for i in range(0, len(corpus)):\n",
    "    bow = corpus[i]\n",
    "    low_value_words = [] #reinitialize to be safe. You can skip this.\n",
    "    tfidf_ids = [id for id, value in tfidf[bow]]\n",
    "    bow_ids = [id for id, value in bow]\n",
    "    low_value_words = [id for id, value in tfidf[bow] if value < low_value]\n",
    "    drops = low_value_words+words_missing_in_tfidf\n",
    "    for item in drops:\n",
    "        words.append(id2word[item])\n",
    "    words_missing_in_tfidf = [id for id in bow_ids if id not in tfidf_ids] # The words with tf-idf socre 0 will be missing\n",
    "\n",
    "    new_bow = [b for b in bow if b[0] not in low_value_words and b[0] not in words_missing_in_tfidf]\n",
    "    corpus[i] = new_bow"
   ]
  },
  {
   "cell_type": "code",
   "execution_count": 9,
   "id": "354c8cfe",
   "metadata": {},
   "outputs": [],
   "source": [
    "# id2word = gensim.corpora.Dictionary(data_words)\n",
    "\n",
    "# corpus = []\n",
    "# for text in data_words:\n",
    "#     new = id2word.doc2bow(text)\n",
    "#     corpus.append(new)\n",
    "\n",
    "# print (corpus[0][0:20])\n",
    "\n",
    "# word = id2word[[0][:1][0]]\n",
    "# print (word)"
   ]
  },
  {
   "cell_type": "code",
   "execution_count": 21,
   "id": "e59621ab",
   "metadata": {},
   "outputs": [],
   "source": [
    "lda_model = gensim.models.ldamodel.LdaModel(corpus=corpus,\n",
    "                                           id2word=id2word,\n",
    "                                           num_topics=8,\n",
    "                                           random_state=100,\n",
    "                                           update_every=1,\n",
    "                                           chunksize=100,\n",
    "                                           passes=10,\n",
    "                                           alpha=\"auto\")"
   ]
  },
  {
   "cell_type": "code",
   "execution_count": 11,
   "id": "f673c4b6",
   "metadata": {},
   "outputs": [],
   "source": [
    "# test_doc = corpus[-1]\n",
    "\n",
    "# vector = lda_model[test_doc]\n",
    "# print (vector)\n",
    "\n",
    "# def Sort(sub_li):\n",
    "#     sub_li.sort(key = lambda x: x[1])\n",
    "#     sub_li.reverse()\n",
    "#     return (sub_li)\n",
    "# new_vector = Sort(vector)\n",
    "# print (new_vector)"
   ]
  },
  {
   "cell_type": "code",
   "execution_count": 22,
   "id": "d6a7e356",
   "metadata": {
    "scrolled": false
   },
   "outputs": [
    {
     "name": "stderr",
     "output_type": "stream",
     "text": [
      "C:\\Users\\13479\\anaconda3\\lib\\site-packages\\sklearn\\manifold\\_mds.py:298: FutureWarning: The default value of `normalized_stress` will change to `'auto'` in version 1.4. To suppress this warning, manually set the value of `normalized_stress`.\n",
      "  warnings.warn(\n"
     ]
    },
    {
     "data": {
      "text/html": [
       "\n",
       "<link rel=\"stylesheet\" type=\"text/css\" href=\"https://cdn.jsdelivr.net/gh/bmabey/pyLDAvis@3.4.0/pyLDAvis/js/ldavis.v1.0.0.css\">\n",
       "\n",
       "\n",
       "<div id=\"ldavis_el2975224386038301281449334748\" style=\"background-color:white;\"></div>\n",
       "<script type=\"text/javascript\">\n",
       "\n",
       "var ldavis_el2975224386038301281449334748_data = {\"mdsDat\": {\"x\": [0.028781136888120194, -0.015185473349021067, -0.4047272212864556, -0.23784720682133323, 0.29888226796082007, 0.4498438594122272, 0.16250624319055887, -0.2822536059949168], \"y\": [0.10185151528888291, -0.2798851821085966, 0.017682391721794172, 0.326898982576225, -0.2723039583686551, 0.06837267367183744, 0.4242170802276804, -0.3868335030091683], \"topics\": [1, 2, 3, 4, 5, 6, 7, 8], \"cluster\": [1, 1, 1, 1, 1, 1, 1, 1], \"Freq\": [26.011014350916167, 22.307180751577636, 15.27053698871729, 12.488687346239026, 10.859600374064131, 5.7025765408694085, 4.573974258856691, 2.786429388759665]}, \"tinfo\": {\"Term\": [\"system\", \"project\", \"design\", \"test\", \"equipment\", \"maintenance\", \"process\", \"technical\", \"control\", \"development\", \"product\", \"software\", \"construction\", \"analysis\", \"testing\", \"repair\", \"plan\", \"tool\", \"support\", \"electrical\", \"power\", \"operation\", \"datum\", \"specification\", \"review\", \"use\", \"solution\", \"report\", \"application\", \"customer\", \"product\", \"customer\", \"new\", \"manufacturing\", \"strong\", \"part\", \"internal\", \"relevant\", \"solve\", \"expertise\", \"organization\", \"external\", \"supplier\", \"device\", \"initiative\", \"join\", \"desire\", \"manufacture\", \"contribute\", \"excellent\", \"look\", \"circuit\", \"partner\", \"analytical\", \"strategy\", \"space\", \"dynamic\", \"future\", \"optimization\", \"crossfunctional\", \"process\", \"development\", \"risk\", \"group\", \"production\", \"key\", \"role\", \"improvement\", \"support\", \"understand\", \"leadership\", \"technical\", \"business\", \"lead\", \"develop\", \"program\", \"base\", \"skill\", \"identify\", \"meet\", \"high\", \"demonstrate\", \"provide\", \"level\", \"ability\", \"year\", \"area\", \"need\", \"safety\", \"training\", \"installation\", \"plant\", \"company\", \"necessary\", \"water\", \"employee\", \"inspection\", \"location\", \"regulatory\", \"overall\", \"regulation\", \"train\", \"industrial\", \"hotel\", \"capital\", \"programming\", \"essential\", \"daily\", \"proficiency\", \"manner\", \"collaboration\", \"check\", \"assistance\", \"organizational\", \"limited\", \"instruction\", \"proper\", \"technician\", \"facility\", \"personnel\", \"monitor\", \"compliance\", \"relate\", \"record\", \"operation\", \"duty\", \"ensure\", \"procedure\", \"standard\", \"maintain\", \"policy\", \"control\", \"follow\", \"site\", \"equipment\", \"complete\", \"provide\", \"quality\", \"assign\", \"activity\", \"material\", \"maintenance\", \"prefer\", \"ability\", \"problem\", \"assist\", \"program\", \"support\", \"project\", \"construction\", \"client\", \"infrastructure\", \"calculation\", \"estimate\", \"scope\", \"budget\", \"contract\", \"office\", \"cloud\", \"clearance\", \"transportation\", \"track\", \"manager\", \"transmission\", \"verbal\", \"traffic\", \"oral\", \"source\", \"geotechnical\", \"progress\", \"interpersonal\", \"agency\", \"hydraulic\", \"state\", \"solid\", \"productivity\", \"basis\", \"financial\", \"schedule\", \"plan\", \"report\", \"field\", \"large\", \"cost\", \"staff\", \"distribution\", \"task\", \"preparation\", \"assist\", \"management\", \"manage\", \"planning\", \"serve\", \"prepare\", \"coordinate\", \"complex\", \"execution\", \"assign\", \"lead\", \"design\", \"specification\", \"discipline\", \"drawing\", \"detailed\", \"familiarity\", \"layout\", \"structural\", \"criterion\", \"civil\", \"license\", \"accord\", \"list\", \"electric\", \"launch\", \"detail\", \"permit\", \"event\", \"act\", \"benefit\", \"submittal\", \"alternative\", \"autocad\", \"feasibility\", \"final\", \"subcontractor\", \"representative\", \"typical\", \"thorough\", \"attend\", \"principle\", \"package\", \"produce\", \"review\", \"degree\", \"structure\", \"study\", \"proficient\", \"apply\", \"technique\", \"year\", \"analysis\", \"knowledge\", \"document\", \"ability\", \"technical\", \"write\", \"assignment\", \"prepare\", \"code\", \"develop\", \"able\", \"communication\", \"use\", \"electrical\", \"research\", \"prefer\", \"software\", \"security\", \"network\", \"platform\", \"equivalent\", \"configuration\", \"automate\", \"deployment\", \"storage\", \"enterprise\", \"possess\", \"user\", \"science\", \"database\", \"deploy\", \"server\", \"analytic\", \"algorithm\", \"cybersecurity\", \"feature\", \"run\", \"concern\", \"domain\", \"case\", \"architect\", \"world\", \"networking\", \"specialized\", \"deep\", \"language\", \"data\", \"application\", \"automation\", \"tool\", \"digital\", \"datum\", \"environment\", \"use\", \"solution\", \"architecture\", \"pipeline\", \"technology\", \"build\", \"computer\", \"hardware\", \"implement\", \"service\", \"good\", \"drive\", \"management\", \"integration\", \"implementation\", \"skill\", \"maintain\", \"communication\", \"performance\", \"support\", \"system\", \"power\", \"simulation\", \"vehicle\", \"trade\", \"aircraft\", \"flight\", \"subsystem\", \"engine\", \"sensor\", \"air\", \"display\", \"battery\", \"willingness\", \"missile\", \"weapon\", \"filter\", \"diagnostic\", \"post\", \"fuel\", \"conversion\", \"converter\", \"desirable\", \"allocation\", \"seeker\", \"spacecraft\", \"generator\", \"mechanism\", \"analog_digital\", \"behavior\", \"ground\", \"energy\", \"mission\", \"model\", \"integration\", \"control\", \"generation\", \"definition\", \"interface\", \"analysis\", \"component\", \"hardware\", \"integrate\", \"electronic\", \"advanced\", \"electrical\", \"architecture\", \"performance\", \"modeling\", \"test\", \"testing\", \"certification\", \"verification\", \"minimum_year\", \"bachelor_degree\", \"assembly\", \"prototype\", \"take\", \"schematic\", \"lab\", \"career\", \"visit\", \"substation\", \"calibration\", \"military\", \"thermal\", \"purpose\", \"experiment\", \"sustainment\", \"stress\", \"gain\", \"plus\", \"salary\", \"citizenship\", \"panel\", \"setting\", \"phd\", \"relay\", \"light\", \"validation\", \"laboratory\", \"fabrication\", \"result\", \"validate\", \"electronic\", \"verify\", \"component\", \"plan\", \"write\", \"hardware\", \"report\", \"datum\", \"field\", \"execute\", \"functional\", \"procedure\", \"use\", \"repair\", \"obtain\", \"plumbing\", \"protection\", \"employment\", \"property\", \"guest\", \"preventive\", \"carpentry\", \"inspect\", \"pump\", \"stay\", \"anticipate\", \"replace\", \"indepth\", \"air_conditioning\", \"ethic\", \"tenant\", \"party\", \"recovery\", \"guestroom\", \"monthly\", \"plumb\", \"furniture\", \"workstation\", \"broadcast\", \"house\", \"painting\", \"appearance\", \"belt\", \"stoop\", \"climb\", \"school\", \"push_pull\", \"maintenance\", \"equipment\", \"mechanical\", \"emergency\", \"electrical\", \"building\", \"lbs\", \"order\", \"operate\", \"operation\", \"safe\", \"troubleshoot\", \"build\", \"skill\", \"type\"], \"Freq\": [21318.0, 23916.0, 20563.0, 8038.0, 8229.0, 4999.0, 8751.0, 11469.0, 6215.0, 8955.0, 7529.0, 4472.0, 4890.0, 6405.0, 2913.0, 2419.0, 5918.0, 4421.0, 11709.0, 3363.0, 2745.0, 4384.0, 4541.0, 3572.0, 4264.0, 5216.0, 4165.0, 4390.0, 3292.0, 4823.0, 7528.972915761208, 4822.431208017436, 4388.00548726581, 3061.685432890972, 3010.236293094418, 2084.459197698107, 1709.7789753332117, 1614.0398040961968, 1587.9572442384363, 1564.6327683525822, 1439.1514154682118, 1335.8679270726952, 1296.0072441930688, 1242.3452262833969, 1158.234234893974, 1088.5981412719498, 1077.2673652791582, 1059.9946606091887, 1013.7970994965436, 1016.4425085120785, 1009.9197269635504, 910.0948968701451, 809.1998273996039, 772.0767798180116, 1331.9576708614475, 740.8029510475941, 713.7215149211781, 710.5736626452567, 668.4614149722133, 644.782541461475, 8723.09754388574, 8837.988694371617, 1414.086038968891, 1121.8103108920754, 3086.919096449595, 1104.3584730756488, 3295.23277685614, 2397.6937802438347, 9284.35892766564, 2311.0050815294007, 1652.6439988663894, 8090.002732126174, 2704.879285824627, 3339.400254420081, 4245.540681730065, 3788.596273376533, 1635.015307654309, 3424.786731842299, 1826.258214045375, 2111.3105171601, 1693.1577958094965, 1912.5151417743264, 3211.1525275608833, 1998.0688009221233, 2491.6173026743763, 2131.001622932277, 1743.615589423382, 1706.466151999157, 2625.1613326239567, 2154.033054108117, 1966.139984527081, 1784.1916832376219, 1509.6050042622692, 1314.9879597664667, 1221.0282723094074, 1146.4956657959528, 1111.2929685225215, 1024.8966567890295, 1021.4550423774518, 931.5949581364977, 790.6512204674656, 775.6306975388363, 774.0414762447037, 763.8930683296069, 735.7066669471294, 735.7782956581572, 721.3343571924901, 661.0127921529327, 652.2809619720556, 626.1617805938606, 624.2481861046275, 620.2584254280142, 606.9670041795691, 608.0789969647456, 589.4198066114054, 588.410487569993, 576.1734125096774, 573.997712629554, 2608.1628737832852, 1254.8988769949592, 1613.5417594919174, 1895.3823118034024, 4527.023643302413, 852.3653092654964, 3858.47810573493, 2471.0765406780165, 4530.575100253483, 2707.7069938656928, 3259.3907337383707, 3267.6733588844986, 1053.277741334813, 3924.0430820096994, 1894.9354766184804, 1803.7793215070205, 4176.320468681584, 1548.3463612977027, 3624.9893624631973, 2380.536428029142, 2025.9002506350619, 2225.1039024864626, 1721.4279879511162, 2104.6041483218946, 1451.3715139054739, 2199.284862588885, 1546.3963303673763, 1555.5990497089217, 1559.0468257300502, 1531.2180346865, 23915.382695029744, 4890.372428193787, 3320.2180198651686, 2863.2697530496853, 1850.0172426431052, 1770.9260305512958, 1663.3905929418868, 1650.8914410467557, 1500.7556115468128, 1195.5571167153562, 1115.0674032229292, 994.8430860473701, 947.4885518744746, 928.3242725744752, 915.760634361063, 891.6163889924185, 838.6488683384646, 688.8200586054339, 686.1798508397186, 662.6024767104578, 649.6605593205604, 636.519910509544, 605.5880137312962, 571.5479980841799, 566.688365918894, 554.2109528077876, 521.4544176816371, 515.8772028563801, 500.1353219726473, 467.57565262570324, 3210.576029191898, 4423.156966129503, 3380.078195122456, 3681.906935085526, 1379.2028762146551, 2714.593828903742, 1673.6853672450459, 1305.0858710360217, 2347.2653215263563, 1249.2014598092353, 2302.5836844100786, 3277.805003314547, 2010.510953811771, 1596.1903334817182, 1189.693971988285, 1455.777418481306, 1241.8750840186678, 1307.6966341054651, 1157.2141196692517, 1168.6745145934233, 1176.319509576707, 20563.16575400548, 3572.354230942324, 1950.3689202784028, 1937.8875420537047, 1121.98109200769, 771.4212572507012, 709.808831046418, 699.9892685267289, 670.7094284478036, 662.1861784687145, 633.6344652228902, 566.5643383365689, 524.4700696716498, 520.1990246738781, 513.4621930155413, 460.72878794613456, 458.319687180147, 436.07039063579344, 435.0785367413775, 427.3437149156599, 422.3770487469793, 414.4575416895422, 405.84198226363645, 395.75252324062444, 385.39684947806853, 382.8497654929802, 370.9111323197596, 367.9658871418622, 365.9209161305113, 361.83173699579964, 1471.997418825211, 853.4254140812366, 567.3613241030481, 3662.256931995087, 2630.093893642289, 861.7709443276474, 1372.852097587624, 524.0573472689404, 1367.3371471372761, 1214.1968694468019, 2959.892361957242, 3188.276348461261, 2484.2121966573764, 1516.9835305087122, 2827.6402227913522, 3378.76483595332, 1349.7952343520574, 811.4367224803553, 1204.5241131116657, 818.8764724990727, 1330.181052433055, 875.2731330213467, 904.5182119431523, 963.9750483775025, 864.0669054877808, 805.446525981143, 795.3512623755968, 4471.459284559332, 2489.2645947628107, 2486.625639057076, 1182.598379220272, 1097.3393665379733, 1041.2094685849786, 722.4881914887753, 691.239167207453, 668.5473669395781, 589.2303886258204, 569.3597120736196, 532.5845594882475, 486.3057514331023, 481.6852427212135, 452.60166999439457, 442.4291614292295, 431.58736713406995, 403.7654434349238, 379.1269605098523, 363.94985023274097, 364.14491075383347, 353.8722328570472, 333.10164748943765, 318.8693246571626, 309.82930926968476, 304.68825460412484, 298.33712095550453, 297.2786371371436, 291.92218812417593, 277.6003387715, 833.2630700699195, 3092.502826546847, 1677.8525140320526, 3621.0464057943445, 688.8631956553961, 3547.7165712170104, 2247.457616452183, 3622.562126702884, 2876.849821331376, 1310.1095255011535, 435.44263176114026, 2285.5527660519456, 1263.7672066863684, 965.2531381784605, 1286.8550118270216, 1281.3712817140124, 1395.038697562542, 951.3717396933883, 893.1969798707472, 1705.2974687809283, 996.3925616938283, 987.5010553442189, 1187.7416547434577, 1068.2177508084453, 959.3583475085074, 835.7606407875726, 893.3841087574615, 21318.17688838096, 2744.3852838698776, 1151.681998401458, 1012.7319524771442, 868.6656529930458, 802.7583643414653, 680.0459456845755, 677.6131338268086, 500.35298036440497, 490.27971437261294, 434.46138258293826, 365.51806202060425, 334.68844049864157, 292.54627715844373, 278.20721488353956, 272.41576924877904, 258.569666858494, 245.07415545411163, 215.11119703027092, 204.23209278048938, 199.57659950121004, 175.90287805192872, 175.14238580274312, 168.10887754607523, 163.32776643212, 159.4348857898795, 155.6468886182359, 149.7509987360767, 148.83517293101505, 147.9181809126341, 565.8464601808017, 650.9310212370034, 933.3174902879886, 1513.0846602202537, 1523.979334175129, 2291.3543623323067, 407.8468800743957, 354.5423589584809, 753.3829522088259, 1739.6048464248263, 793.946456501045, 784.0291601814849, 490.35544251022804, 540.5264241653962, 565.1659368449376, 651.8054691876722, 492.3072292378639, 404.72863769744737, 358.7081940999412, 8037.975886072254, 2913.0407133410713, 1697.9528252619493, 1228.084067733471, 1091.711259245719, 736.4548291021696, 680.3905699814266, 657.1983088451192, 536.8320868209612, 513.2494815811759, 479.7473837598426, 438.1209486183563, 388.1570248545999, 382.30677115185813, 314.3522992378589, 302.84706106925154, 286.3568084742037, 286.95218892084426, 257.0125094879307, 244.51637166065004, 219.80338179405584, 206.2764498092901, 206.29095469101404, 204.9452563927859, 212.59443128098832, 195.2902288657852, 189.65047817017233, 244.13129985086402, 185.6930264954058, 182.62832963890426, 1470.187502511966, 372.0232716390076, 443.32807967581846, 1015.077960211394, 510.42664208668555, 960.3065549705383, 374.11498734650314, 662.9880647999672, 931.9046845557707, 625.3814984876004, 616.6032023793724, 680.9229501628911, 535.8431794576001, 525.6952532111137, 388.1990331301453, 383.5269305491358, 424.97592992641825, 447.9819357473228, 2418.5155013269773, 1099.476877323024, 530.1687115355928, 456.48761878649987, 446.1857525699618, 374.6755085238475, 367.1503003034735, 331.24243086029236, 325.31189386512716, 292.225588975538, 242.91357097442932, 201.40496279336998, 194.40437979647405, 182.38669529719675, 174.06261214913187, 149.61038478426227, 148.4353989367293, 127.8745305083702, 126.32676398998049, 115.58523090185506, 122.94686469262635, 115.18887206818265, 110.53111923241751, 106.9818212700131, 102.4625771898216, 100.02386546012849, 98.38343661386224, 102.03840707684562, 94.98405165966767, 94.58583528711681, 151.19392557730697, 144.05381254848191, 220.0038261328928, 108.8261057574971, 2894.508669641174, 4052.1555536306882, 1075.0491309884728, 318.92308500737687, 1601.3606149393772, 872.4951582896548, 130.75760846099658, 364.2977718348719, 301.0835480387067, 465.7604824699122, 226.928435049605, 268.5819756665029, 225.10661124138826, 247.11764769120904, 166.638673100123], \"Total\": [21318.0, 23916.0, 20563.0, 8038.0, 8229.0, 4999.0, 8751.0, 11469.0, 6215.0, 8955.0, 7529.0, 4472.0, 4890.0, 6405.0, 2913.0, 2419.0, 5918.0, 4421.0, 11709.0, 3363.0, 2745.0, 4384.0, 4541.0, 3572.0, 4264.0, 5216.0, 4165.0, 4390.0, 3292.0, 4823.0, 7529.613897728666, 4823.072430594341, 4388.646661207718, 3062.3264161218563, 3010.8798967536322, 2085.1007655595135, 1710.4203533132554, 1614.6838806924557, 1588.5995117399505, 1565.2851215944868, 1439.7928982037454, 1336.5093587019915, 1296.6484074843402, 1242.9880771570197, 1158.875738916707, 1089.2395328650487, 1077.9150158528198, 1060.6355962493926, 1014.4384033620317, 1017.0877465555789, 1010.5613607389562, 910.7377950626108, 809.8410329379992, 772.719709775104, 1333.0761837161726, 741.445878289576, 714.3639645040898, 711.215447003024, 669.1027052892298, 645.4237041544824, 8751.106749515886, 8955.01972430527, 1417.480262646448, 1123.7617221672715, 3125.8602539906674, 1116.474245416111, 3497.0791622645197, 2626.661007230108, 11709.431679486863, 2591.782199688014, 1782.28849973814, 11469.317976464914, 3311.746297034372, 4516.256666509844, 6406.827493158783, 5666.798100712486, 1859.3954802490637, 5644.004789287458, 2233.2895134525625, 2866.1900727370853, 2035.8244095596654, 2583.9552973446034, 7585.92443546166, 3174.8987175222696, 7519.003025955475, 5764.413267643181, 2506.178460784901, 3142.9390771799085, 2625.8013242072357, 2154.673269874421, 1966.7800788403524, 1784.8318061911855, 1510.2459441426884, 1315.6283685704589, 1221.6690089825406, 1147.1369361397583, 1111.9330092360349, 1025.5378449846526, 1022.0956229206222, 932.2356501745661, 791.2916862550936, 776.271118363009, 774.6821192979098, 764.535816383826, 736.3466290336934, 736.419264944893, 721.9748062281096, 661.6527478358759, 652.9234537288074, 626.8025294206878, 624.8892782736308, 620.8991067283466, 607.6074334017194, 608.7206304654418, 590.0603137416648, 589.0508797373689, 576.8138619688198, 574.6379338751049, 2625.8807612104047, 1261.3277179667064, 1628.056353580931, 1920.8130277511666, 4970.578430246314, 871.6452355449057, 4384.34921655041, 2777.221558211285, 5376.569398813599, 3143.9779829276567, 3952.382958766668, 4336.45188914628, 1135.8774420581035, 6215.940870637179, 2473.7029962699276, 2373.2321560422365, 8229.025209187781, 2111.3821747337765, 7585.92443546166, 4391.204771127846, 3358.066131139915, 4057.835923632133, 2709.170636404186, 4999.661898962874, 2247.2744194343545, 7519.003025955475, 3098.658980653488, 3885.7919307201205, 5666.798100712486, 11709.431679486863, 23916.009012286955, 4890.998645346291, 3320.844683985979, 2863.897395009027, 1850.6435115839836, 1771.552528929314, 1664.0173634057514, 1651.5179887947784, 1501.3825561614947, 1196.1848029411562, 1115.6968368666107, 995.4852325937248, 948.1149592917424, 928.9521613766833, 916.3876259517989, 892.2437116460533, 839.2843117517873, 689.4463050086023, 686.812836965685, 663.2314355437182, 650.2865827669419, 637.1468281427017, 606.2220404219381, 572.1756715217049, 567.3168515894539, 554.8414811328548, 522.085925738472, 516.5047385505045, 500.7639416470292, 468.20303903908143, 3472.897382151116, 5918.807786862522, 4390.421310425368, 4878.106882811848, 1610.4551915048623, 3636.147128739913, 2067.828945943224, 1542.2149303268945, 3330.0391792583614, 1531.9025657965815, 3885.7919307201205, 6578.324207839332, 3449.107276591365, 2648.3293268543416, 1624.0335338260882, 2660.837559947597, 2604.49051393417, 3526.632143193998, 2174.482882375451, 3358.066131139915, 4516.256666509844, 20563.80563470665, 3572.994118124484, 1951.0095445786321, 1938.5274848692102, 1122.6210733098444, 772.0638404647706, 710.4494984613184, 700.6292337177242, 671.3493310481011, 662.8265131984538, 634.27934101495, 567.2069898350425, 525.111688389873, 520.8392342333726, 514.1033722079829, 461.3690881148873, 458.95969596489783, 436.71223915289823, 435.71917797086485, 427.9865930744126, 423.01747994038914, 415.09826168845655, 406.48306831474946, 396.3927329342126, 386.0370729841298, 383.49048840170803, 371.55217774617233, 368.6071060239651, 366.5635651647477, 362.4736325051659, 1544.1646934692926, 893.5699944382425, 582.0101017974466, 4264.732914215288, 3023.772022468875, 955.1104765575492, 1630.3902897617927, 554.9427654155953, 1866.2386606282575, 1663.884267154964, 5764.413267643181, 6405.900143344609, 5017.099035753187, 2864.4115380096373, 7519.003025955475, 11469.317976464914, 2567.2419038381427, 1187.2492449907415, 2660.837559947597, 1519.0588496057396, 6406.827493158783, 2067.4556697909743, 2925.928870657092, 5216.884817923093, 3363.3007533591426, 2186.6814189354914, 2247.2744194343545, 4472.110719290113, 2489.9161389633164, 2487.276852263987, 1183.2496462639738, 1097.9972744579516, 1041.8609346998562, 723.1395438673658, 691.8902656556999, 669.1992307130018, 589.8813597253455, 570.0153184324225, 533.2359672405812, 486.95873755528726, 482.3366748651946, 453.25269389515256, 443.08038749077343, 432.23889724381075, 404.41683571964626, 379.7779849348338, 364.6018508732455, 364.7974447573987, 354.5270254605, 333.7534248244222, 319.5209883258306, 310.480722809853, 305.3417640676435, 298.9894251553051, 297.9309597536669, 292.57379213981244, 278.2532719612075, 846.5498478383121, 3292.122919757585, 1844.3120709010113, 4421.757799980806, 741.16190144329, 4541.929070454677, 2809.7138835417513, 5216.884817923093, 4165.746396121812, 1802.9713396795876, 457.9682440980988, 3916.0212874204335, 1891.3708463584026, 1355.0573755242085, 2687.953676837821, 2888.8890064245825, 3424.8192554280836, 1713.8757838720453, 1639.1803761369088, 6578.324207839332, 2520.9266803564287, 2588.772702793706, 5644.004789287458, 4336.45188914628, 2925.928870657092, 3324.1753088412393, 11709.431679486863, 21318.811101473315, 2745.0199649818137, 1152.3161989443242, 1013.3664153868118, 869.3035364196645, 803.3929906389044, 680.6800957879183, 678.2472803688014, 500.98790796879325, 490.91448076808194, 435.0964619729154, 366.1578587719534, 335.3231688588706, 293.1896800106144, 278.8412386858882, 273.050366966687, 259.20688422406397, 245.7112142606505, 215.74747519281482, 204.86677902084898, 200.21121117097206, 176.5368093329899, 175.77923059214942, 168.7431109943579, 163.97437055822587, 160.06883118813732, 156.28346493703052, 150.38697209788373, 149.4708126897729, 148.5543255857244, 645.9182045725726, 761.2406577040908, 1160.1331400160225, 2472.3066283905814, 2520.9266803564287, 6215.940870637179, 597.0467382993435, 505.27208831368125, 1611.6913036507426, 6405.900143344609, 2419.9609758426245, 2687.953676837821, 1162.6826677539311, 1501.3792103617914, 1806.885348903235, 3363.3007533591426, 1802.9713396795876, 3324.1753088412393, 792.9716742795085, 8038.617924224141, 2913.682987815218, 1698.5981756346505, 1228.7557498495792, 1092.3616540349303, 737.1064915124443, 681.0330266970971, 657.8407307086082, 537.4770945498107, 513.8927739081487, 480.3899560806386, 438.7656692217052, 388.8018212891952, 382.9492123758501, 314.994859930454, 303.49110825771703, 286.9991898886171, 287.59614235326364, 257.6548967714501, 245.159501207692, 220.4461679708265, 206.92066677998696, 206.93856235572946, 205.58925507884058, 213.27715977469867, 195.93855230716562, 190.29376441827569, 244.96640087920417, 186.33696776951592, 183.27443249035773, 1505.9791259790504, 387.2071114244276, 496.26209137194826, 1490.2754091839836, 651.7392660876508, 1501.3792103617914, 497.392355878291, 2419.9609758426245, 5918.807786862522, 2567.2419038381427, 2687.953676837821, 4390.421310425368, 4541.929070454677, 4878.106882811848, 1354.628517107958, 1269.806915956831, 3143.9779829276567, 5216.884817923093, 2419.155189150457, 1100.122004665974, 530.8083199591233, 457.12854295666835, 446.8367297655735, 375.316347097905, 367.7914967354739, 331.8821971519913, 325.9526849096777, 292.86651775724164, 243.55389001240206, 202.05103386222493, 195.04670372095484, 183.02641203356998, 174.7049009578093, 150.25042253743692, 149.09390371330602, 128.51462233667186, 126.96921863192759, 116.228432252869, 123.63357236528842, 115.83254256046898, 111.17075094094926, 107.62532455202508, 103.10427314902766, 100.66361207151466, 99.0268873968653, 102.73073822556118, 95.63100895638705, 95.2329672859983, 153.1313530538191, 146.34269676265183, 227.7713340028658, 110.13730593334576, 4999.661898962874, 8229.025209187781, 1878.7351207725078, 418.1341528303583, 3363.3007533591426, 1574.4630117226857, 138.68871632638252, 1242.3677445938993, 952.0920884171342, 4384.34921655041, 673.3350826096225, 1469.276972325713, 1891.3708463584026, 5644.004789287458, 432.41513293262494], \"Category\": [\"Default\", \"Default\", \"Default\", \"Default\", \"Default\", \"Default\", \"Default\", \"Default\", \"Default\", \"Default\", \"Default\", \"Default\", \"Default\", \"Default\", \"Default\", \"Default\", \"Default\", \"Default\", \"Default\", \"Default\", \"Default\", \"Default\", \"Default\", \"Default\", \"Default\", \"Default\", \"Default\", \"Default\", \"Default\", \"Default\", \"Topic1\", \"Topic1\", \"Topic1\", \"Topic1\", \"Topic1\", \"Topic1\", \"Topic1\", \"Topic1\", \"Topic1\", \"Topic1\", \"Topic1\", \"Topic1\", \"Topic1\", \"Topic1\", \"Topic1\", \"Topic1\", \"Topic1\", \"Topic1\", \"Topic1\", \"Topic1\", \"Topic1\", \"Topic1\", \"Topic1\", \"Topic1\", \"Topic1\", \"Topic1\", \"Topic1\", \"Topic1\", \"Topic1\", \"Topic1\", \"Topic1\", \"Topic1\", \"Topic1\", \"Topic1\", \"Topic1\", \"Topic1\", \"Topic1\", \"Topic1\", \"Topic1\", \"Topic1\", \"Topic1\", \"Topic1\", \"Topic1\", \"Topic1\", \"Topic1\", \"Topic1\", \"Topic1\", \"Topic1\", \"Topic1\", \"Topic1\", \"Topic1\", \"Topic1\", \"Topic1\", \"Topic1\", \"Topic1\", \"Topic1\", \"Topic1\", \"Topic1\", \"Topic2\", \"Topic2\", \"Topic2\", \"Topic2\", \"Topic2\", \"Topic2\", \"Topic2\", \"Topic2\", \"Topic2\", \"Topic2\", \"Topic2\", \"Topic2\", \"Topic2\", \"Topic2\", \"Topic2\", \"Topic2\", \"Topic2\", \"Topic2\", \"Topic2\", \"Topic2\", \"Topic2\", \"Topic2\", \"Topic2\", \"Topic2\", \"Topic2\", \"Topic2\", \"Topic2\", \"Topic2\", \"Topic2\", \"Topic2\", \"Topic2\", \"Topic2\", \"Topic2\", \"Topic2\", \"Topic2\", \"Topic2\", \"Topic2\", \"Topic2\", \"Topic2\", \"Topic2\", \"Topic2\", \"Topic2\", \"Topic2\", \"Topic2\", \"Topic2\", \"Topic2\", \"Topic2\", \"Topic2\", \"Topic2\", \"Topic2\", \"Topic2\", \"Topic2\", \"Topic2\", \"Topic2\", \"Topic2\", \"Topic2\", \"Topic2\", \"Topic2\", \"Topic2\", \"Topic2\", \"Topic3\", \"Topic3\", \"Topic3\", \"Topic3\", \"Topic3\", \"Topic3\", \"Topic3\", \"Topic3\", \"Topic3\", \"Topic3\", \"Topic3\", \"Topic3\", \"Topic3\", \"Topic3\", \"Topic3\", \"Topic3\", \"Topic3\", \"Topic3\", \"Topic3\", \"Topic3\", \"Topic3\", \"Topic3\", \"Topic3\", \"Topic3\", \"Topic3\", \"Topic3\", \"Topic3\", \"Topic3\", \"Topic3\", \"Topic3\", \"Topic3\", \"Topic3\", \"Topic3\", \"Topic3\", \"Topic3\", \"Topic3\", \"Topic3\", \"Topic3\", \"Topic3\", \"Topic3\", \"Topic3\", \"Topic3\", \"Topic3\", \"Topic3\", \"Topic3\", \"Topic3\", \"Topic3\", \"Topic3\", \"Topic3\", \"Topic3\", \"Topic3\", \"Topic4\", \"Topic4\", \"Topic4\", \"Topic4\", \"Topic4\", \"Topic4\", \"Topic4\", \"Topic4\", \"Topic4\", \"Topic4\", \"Topic4\", \"Topic4\", \"Topic4\", \"Topic4\", \"Topic4\", \"Topic4\", \"Topic4\", \"Topic4\", \"Topic4\", \"Topic4\", \"Topic4\", \"Topic4\", \"Topic4\", \"Topic4\", \"Topic4\", \"Topic4\", \"Topic4\", \"Topic4\", \"Topic4\", \"Topic4\", \"Topic4\", \"Topic4\", \"Topic4\", \"Topic4\", \"Topic4\", \"Topic4\", \"Topic4\", \"Topic4\", \"Topic4\", \"Topic4\", \"Topic4\", \"Topic4\", \"Topic4\", \"Topic4\", \"Topic4\", \"Topic4\", \"Topic4\", \"Topic4\", \"Topic4\", \"Topic4\", \"Topic4\", \"Topic4\", \"Topic4\", \"Topic4\", \"Topic4\", \"Topic4\", \"Topic4\", \"Topic5\", \"Topic5\", \"Topic5\", \"Topic5\", \"Topic5\", \"Topic5\", \"Topic5\", \"Topic5\", \"Topic5\", \"Topic5\", \"Topic5\", \"Topic5\", \"Topic5\", \"Topic5\", \"Topic5\", \"Topic5\", \"Topic5\", \"Topic5\", \"Topic5\", \"Topic5\", \"Topic5\", \"Topic5\", \"Topic5\", \"Topic5\", \"Topic5\", \"Topic5\", \"Topic5\", \"Topic5\", \"Topic5\", \"Topic5\", \"Topic5\", \"Topic5\", \"Topic5\", \"Topic5\", \"Topic5\", \"Topic5\", \"Topic5\", \"Topic5\", \"Topic5\", \"Topic5\", \"Topic5\", \"Topic5\", \"Topic5\", \"Topic5\", \"Topic5\", \"Topic5\", \"Topic5\", \"Topic5\", \"Topic5\", \"Topic5\", \"Topic5\", \"Topic5\", \"Topic5\", \"Topic5\", \"Topic5\", \"Topic5\", \"Topic5\", \"Topic6\", \"Topic6\", \"Topic6\", \"Topic6\", \"Topic6\", \"Topic6\", \"Topic6\", \"Topic6\", \"Topic6\", \"Topic6\", \"Topic6\", \"Topic6\", \"Topic6\", \"Topic6\", \"Topic6\", \"Topic6\", \"Topic6\", \"Topic6\", \"Topic6\", \"Topic6\", \"Topic6\", \"Topic6\", \"Topic6\", \"Topic6\", \"Topic6\", \"Topic6\", \"Topic6\", \"Topic6\", \"Topic6\", \"Topic6\", \"Topic6\", \"Topic6\", \"Topic6\", \"Topic6\", \"Topic6\", \"Topic6\", \"Topic6\", \"Topic6\", \"Topic6\", \"Topic6\", \"Topic6\", \"Topic6\", \"Topic6\", \"Topic6\", \"Topic6\", \"Topic6\", \"Topic6\", \"Topic6\", \"Topic6\", \"Topic7\", \"Topic7\", \"Topic7\", \"Topic7\", \"Topic7\", \"Topic7\", \"Topic7\", \"Topic7\", \"Topic7\", \"Topic7\", \"Topic7\", \"Topic7\", \"Topic7\", \"Topic7\", \"Topic7\", \"Topic7\", \"Topic7\", \"Topic7\", \"Topic7\", \"Topic7\", \"Topic7\", \"Topic7\", \"Topic7\", \"Topic7\", \"Topic7\", \"Topic7\", \"Topic7\", \"Topic7\", \"Topic7\", \"Topic7\", \"Topic7\", \"Topic7\", \"Topic7\", \"Topic7\", \"Topic7\", \"Topic7\", \"Topic7\", \"Topic7\", \"Topic7\", \"Topic7\", \"Topic7\", \"Topic7\", \"Topic7\", \"Topic7\", \"Topic7\", \"Topic7\", \"Topic7\", \"Topic7\", \"Topic8\", \"Topic8\", \"Topic8\", \"Topic8\", \"Topic8\", \"Topic8\", \"Topic8\", \"Topic8\", \"Topic8\", \"Topic8\", \"Topic8\", \"Topic8\", \"Topic8\", \"Topic8\", \"Topic8\", \"Topic8\", \"Topic8\", \"Topic8\", \"Topic8\", \"Topic8\", \"Topic8\", \"Topic8\", \"Topic8\", \"Topic8\", \"Topic8\", \"Topic8\", \"Topic8\", \"Topic8\", \"Topic8\", \"Topic8\", \"Topic8\", \"Topic8\", \"Topic8\", \"Topic8\", \"Topic8\", \"Topic8\", \"Topic8\", \"Topic8\", \"Topic8\", \"Topic8\", \"Topic8\", \"Topic8\", \"Topic8\", \"Topic8\", \"Topic8\", \"Topic8\", \"Topic8\", \"Topic8\", \"Topic8\"], \"logprob\": [30.0, 29.0, 28.0, 27.0, 26.0, 25.0, 24.0, 23.0, 22.0, 21.0, 20.0, 19.0, 18.0, 17.0, 16.0, 15.0, 14.0, 13.0, 12.0, 11.0, 10.0, 9.0, 8.0, 7.0, 6.0, 5.0, 4.0, 3.0, 2.0, 1.0, -3.674, -4.1195, -4.2139, -4.5738, -4.5907, -4.9582, -5.1564, -5.214, -5.2303, -5.2451, -5.3287, -5.4032, -5.4335, -5.4758, -5.5459, -5.6079, -5.6183, -5.6345, -5.6791, -5.6764, -5.6829, -5.787, -5.9045, -5.9514, -5.4061, -5.9928, -6.03, -6.0344, -6.0955, -6.1316, -3.5268, -3.5137, -5.3463, -5.5778, -4.5656, -5.5935, -4.5003, -4.8183, -3.4644, -4.8551, -5.1904, -3.6021, -4.6977, -4.487, -4.2469, -4.3608, -5.2011, -4.4617, -5.0905, -4.9454, -5.1662, -5.0443, -4.5261, -5.0006, -4.7798, -4.9362, -5.1368, -5.1583, -4.574, -4.7718, -4.8631, -4.9602, -5.1273, -5.2653, -5.3395, -5.4024, -5.4336, -5.5146, -5.5179, -5.61, -5.774, -5.7932, -5.7953, -5.8085, -5.8461, -5.846, -5.8658, -5.9531, -5.9664, -6.0073, -6.0104, -6.0168, -6.0384, -6.0366, -6.0678, -6.0695, -6.0905, -6.0943, -4.5805, -5.3121, -5.0607, -4.8997, -4.0291, -5.6989, -4.1889, -4.6345, -4.0283, -4.543, -4.3576, -4.3551, -5.4872, -4.172, -4.9, -4.9493, -4.1097, -5.102, -4.2513, -4.6718, -4.8331, -4.7393, -4.996, -4.795, -5.1666, -4.751, -5.1032, -5.0973, -5.0951, -5.1131, -1.9856, -3.5729, -3.9601, -4.1082, -4.545, -4.5887, -4.6513, -4.6588, -4.7542, -4.9816, -5.0512, -5.1653, -5.2141, -5.2345, -5.2482, -5.2749, -5.3361, -5.5329, -5.5368, -5.5717, -5.5915, -5.6119, -5.6617, -5.7196, -5.7281, -5.7504, -5.8113, -5.822, -5.853, -5.9204, -3.9937, -3.6733, -3.9423, -3.8567, -4.8387, -4.1615, -4.6451, -4.8939, -4.3069, -4.9377, -4.3261, -3.973, -4.4618, -4.6925, -4.9865, -4.7846, -4.9435, -4.8919, -5.0141, -5.0043, -4.9978, -1.9356, -3.6858, -4.291, -4.2975, -4.844, -5.2186, -5.3018, -5.3158, -5.3585, -5.3713, -5.4153, -5.5272, -5.6044, -5.6126, -5.6256, -5.734, -5.7392, -5.789, -5.7913, -5.8092, -5.8209, -5.8398, -5.8609, -5.886, -5.9125, -5.9192, -5.9509, -5.9588, -5.9644, -5.9756, -4.5724, -5.1176, -5.5258, -3.661, -3.992, -5.1078, -4.6422, -5.6052, -4.6462, -4.765, -3.8739, -3.7996, -4.0491, -4.5423, -3.9196, -3.7416, -4.6591, -5.168, -4.773, -5.1589, -4.6737, -5.0923, -5.0594, -4.9958, -5.1052, -5.1754, -5.188, -3.3216, -3.9073, -3.9084, -4.6516, -4.7264, -4.7789, -5.1443, -5.1886, -5.2219, -5.3482, -5.3825, -5.4493, -5.5402, -5.5498, -5.612, -5.6348, -5.6596, -5.7262, -5.7892, -5.83, -5.8295, -5.8581, -5.9186, -5.9623, -5.991, -6.0078, -6.0288, -6.0324, -6.0506, -6.1009, -5.0017, -3.6903, -4.3018, -3.5325, -5.192, -3.553, -4.0095, -3.5321, -3.7626, -4.5492, -5.6507, -3.9927, -4.5852, -4.8547, -4.5671, -4.5714, -4.4864, -4.8691, -4.9322, -4.2855, -4.8229, -4.8319, -4.6472, -4.7533, -4.8608, -4.9987, -4.932, -1.1156, -3.1656, -4.0339, -4.1625, -4.316, -4.3949, -4.5608, -4.5643, -4.8676, -4.8879, -5.0088, -5.1816, -5.2697, -5.4043, -5.4545, -5.4756, -5.5277, -5.5814, -5.7118, -5.7637, -5.7867, -5.913, -5.9173, -5.9583, -5.9872, -6.0113, -6.0353, -6.0739, -6.0801, -6.0863, -4.7446, -4.6045, -4.2442, -3.761, -3.7538, -3.346, -5.072, -5.2121, -4.4583, -3.6215, -4.4059, -4.4185, -4.8878, -4.7904, -4.7458, -4.6032, -4.8838, -5.0797, -5.2004, -1.8704, -2.8854, -3.4252, -3.7492, -3.8669, -4.2605, -4.3397, -4.3744, -4.5767, -4.6216, -4.6891, -4.7799, -4.901, -4.9162, -5.1119, -5.1491, -5.2051, -5.2031, -5.3133, -5.3631, -5.4696, -5.5332, -5.5331, -5.5396, -5.503, -5.5879, -5.6172, -5.3647, -5.6383, -5.6549, -3.5692, -4.9434, -4.7681, -3.9397, -4.6271, -3.9951, -4.9378, -4.3656, -4.0251, -4.424, -4.4381, -4.3389, -4.5785, -4.5977, -4.9009, -4.913, -4.8103, -4.7576, -2.5758, -3.3642, -4.0936, -4.2432, -4.266, -4.4407, -4.461, -4.5639, -4.582, -4.6892, -4.874, -5.0614, -5.0968, -5.1606, -5.2073, -5.3587, -5.3666, -5.5157, -5.5279, -5.6167, -5.555, -5.6202, -5.6615, -5.6941, -5.7373, -5.7613, -5.7779, -5.7414, -5.813, -5.8172, -5.3482, -5.3966, -4.9731, -5.677, -2.3962, -2.0597, -3.3866, -4.6018, -2.9881, -3.5954, -5.4934, -4.4688, -4.6594, -4.2231, -4.9421, -4.7736, -4.9502, -4.8569, -5.2509], \"loglift\": [30.0, 29.0, 28.0, 27.0, 26.0, 25.0, 24.0, 23.0, 22.0, 21.0, 20.0, 19.0, 18.0, 17.0, 16.0, 15.0, 14.0, 13.0, 12.0, 11.0, 10.0, 9.0, 8.0, 7.0, 6.0, 5.0, 4.0, 3.0, 2.0, 1.0, 1.3466, 1.3465, 1.3465, 1.3464, 1.3464, 1.3463, 1.3463, 1.3463, 1.3462, 1.3462, 1.3462, 1.3462, 1.3462, 1.3461, 1.3461, 1.3461, 1.346, 1.346, 1.346, 1.346, 1.346, 1.3459, 1.3459, 1.3458, 1.3458, 1.3458, 1.3458, 1.3457, 1.3457, 1.3457, 1.3434, 1.3335, 1.3443, 1.3449, 1.3341, 1.3357, 1.2872, 1.2554, 1.1146, 1.232, 1.2711, 0.9976, 1.1442, 1.0448, 0.9352, 0.944, 1.2181, 0.8471, 1.1454, 1.041, 1.1623, 1.0457, 0.487, 0.8836, 0.2421, 0.3515, 0.9839, 0.7359, 1.5, 1.5, 1.4999, 1.4999, 1.4998, 1.4998, 1.4997, 1.4997, 1.4997, 1.4996, 1.4996, 1.4996, 1.4995, 1.4994, 1.4994, 1.4994, 1.4994, 1.4994, 1.4994, 1.4993, 1.4993, 1.4992, 1.4992, 1.4992, 1.4992, 1.4992, 1.4992, 1.4992, 1.4992, 1.4991, 1.4935, 1.4952, 1.4913, 1.4869, 1.4068, 1.4779, 1.3725, 1.3835, 1.3291, 1.3509, 1.3075, 1.2173, 1.4248, 1.0403, 1.2337, 1.2259, 0.822, 1.1901, 0.7618, 0.888, 0.9949, 0.8994, 1.0468, 0.635, 1.0631, 0.271, 0.8052, 0.5848, 0.2097, -0.5341, 1.8792, 1.8791, 1.8791, 1.879, 1.8789, 1.8789, 1.8789, 1.8789, 1.8788, 1.8787, 1.8787, 1.8786, 1.8786, 1.8786, 1.8786, 1.8785, 1.8785, 1.8783, 1.8783, 1.8783, 1.8783, 1.8783, 1.8782, 1.8781, 1.8781, 1.8781, 1.878, 1.878, 1.878, 1.8779, 1.8007, 1.588, 1.6177, 1.5979, 1.7242, 1.587, 1.6678, 1.7123, 1.5295, 1.6752, 1.3559, 1.1826, 1.3395, 1.3729, 1.568, 1.2761, 1.1386, 0.8872, 1.2485, 0.8237, 0.534, 2.0803, 2.0802, 2.08, 2.08, 2.0798, 2.0795, 2.0794, 2.0794, 2.0794, 2.0794, 2.0793, 2.0792, 2.0791, 2.0791, 2.0791, 2.079, 2.079, 2.0789, 2.0789, 2.0788, 2.0788, 2.0788, 2.0788, 2.0787, 2.0787, 2.0787, 2.0786, 2.0786, 2.0786, 2.0786, 2.0325, 2.0344, 2.0549, 1.928, 1.9409, 1.9775, 1.9084, 2.0231, 1.7693, 1.7653, 1.4138, 1.3826, 1.3775, 1.4447, 1.1024, 0.8582, 1.4375, 1.6998, 1.2878, 1.4624, 0.5083, 1.2208, 0.9064, 0.3918, 0.7213, 1.0816, 1.0417, 2.22, 2.2199, 2.2199, 2.2196, 2.2195, 2.2195, 2.2192, 2.2192, 2.2191, 2.219, 2.219, 2.2189, 2.2188, 2.2188, 2.2187, 2.2186, 2.2186, 2.2185, 2.2184, 2.2183, 2.2183, 2.2183, 2.2182, 2.2181, 2.218, 2.218, 2.2179, 2.2179, 2.2179, 2.2178, 2.2043, 2.1576, 2.1255, 2.0203, 2.1469, 1.9731, 1.9968, 1.8554, 1.8499, 1.9008, 2.1697, 1.6817, 1.8169, 1.8809, 1.4835, 1.4072, 1.322, 1.6315, 1.613, 0.8701, 1.2919, 1.2564, 0.6616, 0.8191, 1.105, 0.8395, -0.353, 2.8642, 2.864, 2.8637, 2.8636, 2.8635, 2.8635, 2.8633, 2.8633, 2.863, 2.863, 2.8628, 2.8625, 2.8624, 2.8621, 2.862, 2.8619, 2.8618, 2.8617, 2.8613, 2.8611, 2.8611, 2.8607, 2.8606, 2.8605, 2.8603, 2.8603, 2.8602, 2.86, 2.86, 2.86, 2.7319, 2.7077, 2.6467, 2.3733, 2.361, 1.8663, 2.4831, 2.51, 2.1038, 1.5607, 1.7498, 1.6322, 2.0009, 1.8427, 1.702, 1.2233, 1.5662, 0.7585, 2.071, 3.0847, 3.0846, 3.0844, 3.0842, 3.0842, 3.0839, 3.0838, 3.0838, 3.0836, 3.0835, 3.0834, 3.0833, 3.0831, 3.0831, 3.0827, 3.0827, 3.0825, 3.0825, 3.0823, 3.0822, 3.0819, 3.0817, 3.0817, 3.0817, 3.0816, 3.0815, 3.0814, 3.0814, 3.0813, 3.0813, 3.0607, 3.0448, 2.972, 2.7008, 2.8404, 2.6379, 2.8, 1.79, 1.2361, 1.6726, 1.6125, 1.2211, 0.9475, 0.857, 1.835, 1.8876, 1.0836, 0.6299, 3.5801, 3.5798, 3.5792, 3.579, 3.579, 3.5787, 3.5787, 3.5785, 3.5784, 3.5782, 3.5778, 3.5772, 3.5771, 3.5769, 3.5767, 3.5761, 3.576, 3.5754, 3.5753, 3.5749, 3.5748, 3.5748, 3.5746, 3.5744, 3.5742, 3.574, 3.5739, 3.5736, 3.5736, 3.5736, 3.5677, 3.5646, 3.5457, 3.5684, 3.0339, 2.872, 3.0222, 3.3096, 2.8383, 2.9901, 3.5215, 2.3536, 2.4291, 1.3383, 2.4928, 1.881, 1.4519, 0.4519, 2.6269]}, \"token.table\": {\"Topic\": [1, 2, 4, 1, 2, 4, 4, 4, 1, 2, 3, 1, 4, 5, 6, 3, 6, 8, 6, 5, 6, 4, 6, 1, 3, 4, 5, 6, 5, 1, 8, 8, 4, 5, 1, 4, 5, 5, 5, 6, 1, 2, 7, 2, 3, 8, 2, 4, 2, 3, 4, 8, 2, 4, 4, 5, 1, 2, 5, 7, 1, 5, 7, 3, 6, 6, 8, 4, 8, 3, 1, 5, 8, 2, 8, 1, 5, 3, 7, 2, 7, 8, 5, 7, 2, 1, 7, 4, 3, 3, 2, 8, 3, 2, 4, 5, 2, 1, 4, 5, 2, 2, 3, 1, 3, 4, 5, 2, 4, 1, 5, 6, 7, 2, 5, 5, 5, 3, 3, 1, 2, 6, 6, 6, 1, 2, 3, 4, 7, 1, 2, 3, 4, 1, 1, 5, 2, 3, 5, 5, 3, 5, 7, 5, 1, 6, 4, 5, 1, 4, 5, 5, 4, 6, 1, 4, 4, 1, 3, 4, 5, 1, 3, 5, 6, 1, 6, 5, 6, 4, 6, 3, 7, 2, 3, 4, 7, 5, 4, 2, 5, 7, 2, 3, 1, 4, 2, 4, 6, 7, 8, 6, 7, 2, 8, 2, 8, 4, 6, 6, 1, 2, 5, 1, 3, 5, 2, 8, 5, 2, 3, 8, 4, 1, 1, 3, 7, 1, 3, 7, 7, 1, 1, 2, 7, 2, 3, 4, 4, 5, 2, 3, 4, 7, 6, 4, 3, 6, 1, 2, 3, 4, 5, 6, 1, 5, 6, 7, 8, 1, 7, 4, 6, 6, 3, 1, 2, 5, 6, 8, 1, 2, 8, 8, 5, 6, 7, 1, 2, 4, 2, 8, 3, 1, 2, 1, 2, 5, 1, 2, 4, 5, 1, 2, 8, 2, 3, 1, 8, 2, 2, 2, 1, 5, 6, 5, 6, 1, 4, 6, 1, 3, 1, 1, 2, 1, 2, 4, 5, 7, 3, 7, 5, 3, 4, 5, 4, 4, 2, 8, 1, 3, 1, 3, 1, 3, 4, 5, 6, 7, 4, 7, 2, 4, 2, 1, 2, 5, 2, 8, 1, 2, 3, 5, 1, 2, 3, 5, 3, 2, 1, 1, 1, 2, 3, 4, 7, 8, 6, 1, 2, 4, 7, 7, 6, 5, 6, 1, 4, 5, 6, 1, 3, 6, 2, 5, 8, 2, 1, 2, 3, 5, 5, 5, 1, 8, 3, 2, 5, 8, 2, 5, 8, 1, 3, 3, 8, 1, 2, 2, 2, 4, 8, 7, 1, 1, 8, 1, 2, 5, 6, 4, 2, 4, 7, 3, 5, 1, 3, 4, 7, 1, 2, 3, 6, 2, 5, 8, 8, 7, 2, 5, 5, 6, 6, 2, 4, 3, 4, 3, 4, 8, 4, 5, 1, 2, 4, 5, 2, 4, 7, 1, 2, 2, 4, 1, 1, 4, 3, 2, 2, 4, 1, 2, 6, 2, 3, 3, 2, 8, 8, 7, 1, 2, 4, 5, 8, 7, 2, 8, 1, 2, 3, 2, 8, 8, 2, 2, 2, 4, 5, 7, 1, 8, 8, 2, 3, 4, 7, 4, 1, 3, 4, 5, 1, 7, 2, 4, 1, 3, 1, 3, 5, 2, 8, 2, 7, 2, 3, 7, 3, 4, 8, 5, 3, 5, 6, 6, 1, 3, 5, 2, 3, 5, 8, 7, 6, 2, 3, 1, 2, 3, 5, 8, 5, 3, 1, 5, 1, 3, 1, 6, 5, 4, 2, 3, 2, 4, 3, 8, 2, 8, 5, 1, 5, 7, 1, 4, 3, 4, 4, 6, 4, 4, 7, 6, 1, 1, 2, 5, 7, 6, 7, 2, 3, 4, 5, 7, 1, 4, 2, 1, 4, 1, 5, 8, 7, 7, 7, 4, 1, 5, 3, 6, 3, 2, 2, 3, 3, 2, 5, 7, 8, 5, 8, 4, 1, 2, 4, 5, 1, 2, 4, 5, 7, 5, 1, 5, 7, 1, 7, 6, 3, 7, 4, 7, 7, 2, 6, 6, 8, 5, 1, 3, 4, 7, 1, 4, 5], \"Freq\": [0.3314269180897596, 0.29245898590665387, 0.3761136935625362, 0.025635374327207923, 0.5509187048809401, 0.42322551955296095, 0.9996350717837545, 0.9983494461404843, 0.33416826740157013, 0.5483218251980041, 0.1173039050760674, 0.39183449045604934, 0.19370349104465717, 0.10183269243490548, 0.31269277840066084, 0.999692976247596, 0.9974799565872277, 0.9983332989471326, 0.9995108363609299, 0.9989692918720743, 0.9955961995131005, 0.9973542127495566, 0.9968501362821243, 0.21480197461860082, 0.0009366365172322709, 0.49766620282274665, 0.014986184275716335, 0.27162458999735856, 0.9994473027639713, 0.9990686017633568, 0.994633573903139, 0.9934016281614803, 0.06044731768844565, 0.9395153447756904, 0.24380590199906538, 0.7324893802916975, 0.023040997331779806, 0.9984516822638699, 0.7265783826784539, 0.2728828734945033, 0.695880212558288, 0.3040485791109034, 0.9984831474295643, 0.6033234370260191, 0.3481170275831275, 0.04853984216941812, 0.31585617054060483, 0.6830916114891481, 0.40043317494656483, 0.5926719806567731, 0.0010293911952353853, 0.006176347171412311, 0.9990002864212528, 0.9986933325276863, 0.9988115905620566, 0.9984241715488666, 0.0027110379414029017, 0.08729542171317344, 0.9098243331348138, 0.9984988715671544, 0.8793180457666778, 0.09680565641468013, 0.023663604901366254, 0.9984744475720105, 0.999036246555911, 0.9962685328512731, 0.9975537117803054, 0.9976948037850311, 0.9934076270674331, 0.9996863559475023, 0.21254425105155902, 0.6682983416148522, 0.11896133454378303, 0.445231164391094, 0.5538396224665249, 0.8167896201536615, 0.1829850313542029, 0.999652276853994, 0.9968416629697587, 0.9995292583410774, 0.9982549472864106, 0.9970772294453052, 0.9983694707237843, 0.9996478415888873, 0.9985519278114536, 0.9991898930003668, 0.9987004713725959, 0.9987530474686876, 0.999512566758564, 0.9997456418271977, 0.013666551486636406, 0.9839917070378212, 0.9993754245386518, 0.12639404987491576, 0.5391496189976875, 0.3337592879509494, 0.9985769026537188, 0.36296166002200214, 0.30930348617694153, 0.32775916380517894, 0.9998371496088818, 0.7331690200497154, 0.26617634965629206, 0.40321755778932017, 0.3708920995699232, 0.2069963552645596, 0.018714738969124563, 0.9865614053121101, 0.013015321969816756, 0.38513017743002237, 0.012810123927393446, 0.328104464462916, 0.27397136012457596, 0.28707271516788285, 0.7121469669331798, 0.9985134406613559, 0.9991736567989237, 0.9997958197458834, 0.999745197411596, 0.9995678363904809, 0.6312801362921848, 0.36856849955285303, 0.9989450582225803, 0.9969592215072985, 0.02034946939389759, 0.40814124463609697, 0.47686869787209074, 0.0886929703771763, 0.005759283790725734, 0.2530150644148497, 0.00027501637436396707, 0.7466694563981706, 0.9994796583061224, 0.9993435255759046, 0.9997776457621622, 0.9979514743726725, 0.9990134585883443, 0.015356449514692906, 0.98399403428763, 0.9993019919845642, 0.10083821056988704, 0.78116587576847, 0.11801153027392894, 0.9980388122407825, 0.29686975289020423, 0.7025917485068167, 0.869774566487534, 0.1299701158287456, 0.7403378850887593, 0.2596794149997687, 0.9994424878251005, 0.998713284895176, 0.9999608226842366, 0.9955669928152239, 0.999151124310022, 0.9992000155095017, 0.9994467649640557, 0.6627305018800465, 0.0003121669815732673, 0.20759104274622275, 0.1293932138621193, 0.9869324995468564, 0.011390259668904655, 0.00044667684976096685, 0.0012283613368426589, 0.999205079135369, 0.9971054871761121, 0.9296214479701218, 0.07016010928076391, 0.9994825527217756, 0.999568877826403, 0.8461855571086881, 0.15367507818755485, 0.14662697535838054, 0.26811789779818157, 0.5296026705206268, 0.055508783528529775, 0.9977425705074979, 0.9997278940467301, 0.4038603741463459, 0.5447844624058714, 0.05124512300346383, 0.8897381603185769, 0.1101820627509043, 0.9994905055095514, 0.9983886885276454, 0.0014866348170041533, 0.2568904963783177, 0.1938571801373416, 0.07135847121619936, 0.4760204684047299, 0.36033534783636295, 0.6394120774915127, 0.236766117596152, 0.7629130455876009, 0.9990088923964177, 0.9981274373617126, 0.14450095234240518, 0.8551829088627797, 0.9980280802129564, 0.1571634135674802, 0.8427306826914234, 0.9985058695094962, 0.17937769498604206, 0.02064267124839373, 0.7997255568127709, 0.5074720144662406, 0.4924034010098675, 0.9990917332117751, 0.998649805755408, 0.9996881103324394, 0.9926629883176881, 0.9983690881797135, 0.998930528305682, 0.5654686803990803, 0.14764195310680947, 0.2864253890272104, 0.4175705439483992, 0.5320805279166276, 0.050126860451955406, 0.9974582405393558, 0.9998178468634543, 0.9996188887876654, 0.10478334110961947, 0.8926734636838736, 0.9931905661999052, 0.006474018261272388, 0.9986220822566562, 0.9990092327593761, 0.9983492928743943, 0.1000388084401107, 0.7548010095829665, 0.0373095556067626, 0.10782871565470949, 0.9992018567535994, 0.9973135404428568, 0.9995663440384792, 0.9990008584177402, 0.0020212612458081875, 0.7660580121613031, 0.0036382702424547376, 0.1875730436109998, 0.04082947716532539, 0.9957690601424413, 0.5811907233501706, 0.004725127832115208, 0.11182802536005994, 0.30240818125537333, 0.9941898010098654, 0.9996970720982905, 0.9955506291647229, 0.3165581316771894, 0.6833635858428215, 0.9981862128719456, 0.9995592977395865, 0.38392513984498017, 0.06068117711835553, 0.5548826869188087, 0.8762719427834407, 0.12385469155949691, 0.9984322991853879, 0.0008898683593452655, 0.9978479743482401, 0.9948754019384277, 0.478802894220283, 0.2916716931380745, 0.22954264625789791, 0.8316041364128177, 0.03634891086506114, 0.1316420015113025, 0.9992991611742137, 0.9896302163598266, 0.9994414909612395, 0.817627982848085, 0.18179461173949757, 0.4354615207445982, 0.12080768739257931, 0.44342305888221806, 0.4677892341390708, 0.14524256980701125, 0.005407968024729142, 0.38164802917374235, 0.9129461294774243, 0.08680221748158996, 0.9959651907076178, 0.9991194849075282, 0.9996866525279184, 0.9992443202603192, 0.9970412535926695, 0.9991609123676651, 0.9996033726145872, 0.998215977985064, 0.2812461293774149, 0.296727567691768, 0.42143915411294586, 0.39509280764134624, 0.604539597234349, 0.46472919367585674, 0.06763081723720746, 0.4672110585285983, 0.9997542397619151, 0.9996337308657013, 0.9997800916531017, 0.9888271086705974, 0.010748120746419537, 0.2989775544215092, 0.13792831177312292, 0.4951068301220193, 0.06796756403848976, 0.999188250970482, 0.03873895793085814, 0.9607261566852818, 0.9990897790368382, 0.8562796452047927, 0.0018628273644774316, 0.140953937245459, 0.9978537930937038, 0.9993673041330989, 0.05047274346044547, 0.9445613419026223, 0.7393291051769151, 0.2603926408170267, 0.9274592751077418, 0.07237885450024119, 0.6293114136123573, 0.01070900303444452, 0.07181331446627502, 0.14299668757758272, 0.09921576340735364, 0.04535577755764738, 0.9995595930737662, 0.9985026144311091, 0.9982030417620511, 0.9978829486860562, 0.9994755483795329, 0.9994445060332153, 0.7536114970350503, 0.2462842958486639, 0.4210284700324755, 0.5790391547477514, 0.21193889936714938, 0.18497540054205378, 0.5830494208308309, 0.020005176547651583, 0.03633144132896122, 0.2061315248622235, 0.49830319948257273, 0.2591845500664388, 0.9995770065627018, 0.9987196455294627, 0.9994007402244086, 0.9998934091022637, 0.20449062622918068, 0.635249761264296, 0.16019662776798632, 0.297008340255309, 0.13040688774650663, 0.5721934870509985, 0.9974268243286935, 0.7365177976435066, 0.1667719124934136, 0.09629507918029741, 0.998381803471817, 0.9996689246335273, 0.9969830908446228, 0.19480522726631078, 0.8042180399976459, 0.04651526581670921, 0.19415067471322103, 0.14723092832419263, 0.6119791059189654, 0.19925049673881262, 0.34679675065299664, 0.4527273944888211, 0.9913661750405544, 0.00859921093591559, 0.9928125331442642, 0.999522381406885, 0.5428040309106968, 0.3283550761429303, 0.07317991038069184, 0.05536219307061034, 0.999888692622321, 0.9966907687293918, 0.9998526513393219, 0.9989801088777289, 0.9998455063626441, 0.5598197973539719, 0.1239375911590407, 0.31614588931246823, 0.8799481540924015, 0.013685041276709197, 0.10628715391577477, 0.9983519640848663, 0.9988165087751182, 0.7067150638935796, 0.2929889330948326, 0.999449297044919, 0.9988161556724457, 0.9997472203787509, 0.044764260493266296, 0.9545978550189037, 0.992886859004588, 0.9952099661035859, 0.9994720804012471, 0.9989614839162347, 0.9923665070765122, 0.46176866662759714, 0.16485291811851677, 0.25149094807861316, 0.12183472963138557, 0.997908975508448, 0.9949832879460487, 0.0047568922132878826, 0.9960549655963606, 0.048038265280436136, 0.9498475180449871, 0.017571106166150558, 0.7472788708931146, 0.07771835419643516, 0.15746414371973383, 0.26922633555053144, 0.008307123958080913, 0.6026440835044153, 0.11969810430507498, 0.9995339582204328, 0.9997890164051499, 0.9984640659570613, 0.9984771904871695, 0.9954645362128492, 0.927036633540378, 0.07219088694236561, 0.9982187874613357, 0.9965354162678066, 0.999628430760131, 0.6456710348552896, 0.35376186954511046, 0.8153260056396122, 0.18408481472407578, 0.5471961242266419, 0.4528649242397689, 0.9973418364722128, 0.9532661938363846, 0.04662715078547533, 0.4705261240759436, 0.49892550605034897, 0.0080680062427288, 0.022267697229931487, 0.8613291870060501, 0.003498752236730632, 0.13517906369186533, 0.9967882063011697, 0.0030853240364704325, 0.024054565301810403, 0.9742098947233213, 0.9999184688966786, 0.9875681409810129, 0.012156653500900061, 0.9990227804067762, 0.9985856631071627, 0.054059628973688975, 0.9442415194071008, 0.6686315504206175, 0.27511126606116193, 0.05629281197787727, 0.9994306708625766, 0.9997695536786557, 0.9999578101728246, 0.9985890388174067, 0.9991571187869883, 0.9975312349796207, 0.9987219844114811, 0.4232839421639436, 0.4778587014463705, 0.0750073382408234, 0.02372815620975081, 0.9977258010029162, 0.9979271545564357, 0.00907957563993069, 0.9896737447524452, 0.3522951173153024, 0.5422202161135973, 0.10566576240096982, 0.9774618907512016, 0.021797859066047923, 0.9980346267394193, 0.9996313796035516, 0.9989280622125243, 0.9107591930252807, 0.08751496553258165, 0.0016094706304842603, 0.9981916214825781, 0.9995764615596693, 0.9999358498573581, 0.9943920004650382, 0.0742525550397384, 0.7698577792463674, 0.0006833057212245865, 0.15511039871798113, 0.9985138621726783, 0.5730144268614944, 0.0036585119033455352, 0.36813776027414447, 0.05487767855018303, 0.31873303221187244, 0.6810821635685274, 0.14115772596061113, 0.8586704193816577, 0.9975447540694851, 0.0021164315857202655, 0.9422148733591538, 0.057476537039511354, 0.9978140067348086, 0.662374516817767, 0.33712783703505184, 0.9996948267944539, 0.9971338235618655, 0.0754413307305144, 0.9245882174644342, 0.9982627233666682, 0.0087807362096533, 0.02195184052413325, 0.9658809830618631, 0.99803117290779, 0.9993886101021991, 0.9996320603136064, 0.9940577874767332, 0.998137189258196, 0.2672358611817159, 0.732743490336963, 0.9975616445203277, 0.33490818476977735, 0.2134419207207561, 0.40732076526054006, 0.04438190417175777, 0.9984562583058162, 0.9997255970673553, 0.7601447651916503, 0.23975741208095847, 0.606838606250084, 0.05669732963504434, 0.0822111279708143, 0.21048883627010212, 0.043763251312049854, 0.9997516342148414, 0.9979200248753383, 0.30918828885001026, 0.6906325365073599, 0.999622616187705, 0.9996510485913134, 0.9993986367681961, 0.993322677624346, 0.9968752500430413, 0.9997217688886076, 0.1905380040128416, 0.8095447175570986, 0.8245658464778332, 0.17508424846967183, 0.9984833846035868, 0.9947981762719333, 0.006530341305405581, 0.9860815371162427, 0.9997022849043183, 0.9991927065164629, 0.000750144674561909, 0.9979760683756338, 0.9997077609257743, 0.9991019019940328, 0.09737093486315285, 0.9025133962584705, 0.8421296474972269, 0.157630968249663, 0.9987209893946725, 0.9975947094655935, 0.9975213100192553, 0.9996354126644387, 0.9994999357724134, 0.7928651239550892, 0.1307493003850971, 0.0762633084545341, 0.9993493982207247, 0.9999619537192082, 0.9991123444056528, 0.27116798073261966, 0.7047965124910945, 0.01351335452155912, 0.007507419178643956, 0.0030029676714575823, 0.7053601632285993, 0.2946121126760738, 0.9988898507434013, 0.26985049913822096, 0.729618053349221, 0.41623879962964033, 0.583755764388563, 0.9959956125823278, 0.9999231305393582, 0.9997655929563806, 0.996518492303045, 0.9984625717929866, 0.18092352322044247, 0.8189050969765277, 0.9989750157044984, 0.9996508280399794, 0.9993526616861096, 0.9996507426895119, 0.9996875304094435, 0.9997268552942742, 0.9988240252083194, 0.36208285437013227, 0.3539155719407308, 0.10141042349840171, 0.18308324779241653, 0.6128370166020298, 0.38620295008505273, 0.998352972544361, 0.8916644308608135, 0.0019291744501532095, 0.06945028020551554, 0.03665431455291098, 0.033161552542935666, 0.0017251674733319133, 0.18478460492132937, 0.6944757506535024, 0.08587500311696634, 0.9995574806369452, 0.21327547262022148, 0.0030687118362621793, 0.7825215182468558, 0.023240693975254266, 0.9761091469606791, 0.9996384176727705, 0.9996612450062436, 0.9993849470493451, 0.2472896869973156, 0.7519214872926507, 0.9979377121060378, 0.9994523811461029, 0.9961532116643697, 0.9993530467695605, 0.9892897441075839, 0.9988807162731667, 0.10711884983992453, 0.12347881963365848, 0.5258561719414477, 0.24345193145437397, 0.3696820302530588, 0.5134954526274303, 0.11675082419535832], \"Term\": [\"ability\", \"ability\", \"ability\", \"able\", \"able\", \"able\", \"accord\", \"act\", \"activity\", \"activity\", \"activity\", \"advanced\", \"advanced\", \"advanced\", \"advanced\", \"agency\", \"air\", \"air_conditioning\", \"aircraft\", \"algorithm\", \"allocation\", \"alternative\", \"analog_digital\", \"analysis\", \"analysis\", \"analysis\", \"analysis\", \"analysis\", \"analytic\", \"analytical\", \"anticipate\", \"appearance\", \"application\", \"application\", \"apply\", \"apply\", \"apply\", \"architect\", \"architecture\", \"architecture\", \"area\", \"area\", \"assembly\", \"assign\", \"assign\", \"assign\", \"assignment\", \"assignment\", \"assist\", \"assist\", \"assist\", \"assist\", \"assistance\", \"attend\", \"autocad\", \"automate\", \"automation\", \"automation\", \"automation\", \"bachelor_degree\", \"base\", \"base\", \"base\", \"basis\", \"battery\", \"behavior\", \"belt\", \"benefit\", \"broadcast\", \"budget\", \"build\", \"build\", \"build\", \"building\", \"building\", \"business\", \"business\", \"calculation\", \"calibration\", \"capital\", \"career\", \"carpentry\", \"case\", \"certification\", \"check\", \"circuit\", \"citizenship\", \"civil\", \"clearance\", \"client\", \"climb\", \"climb\", \"cloud\", \"code\", \"code\", \"code\", \"collaboration\", \"communication\", \"communication\", \"communication\", \"company\", \"complete\", \"complete\", \"complex\", \"complex\", \"complex\", \"complex\", \"compliance\", \"compliance\", \"component\", \"component\", \"component\", \"component\", \"computer\", \"computer\", \"concern\", \"configuration\", \"construction\", \"contract\", \"contribute\", \"control\", \"control\", \"conversion\", \"converter\", \"coordinate\", \"coordinate\", \"coordinate\", \"coordinate\", \"coordinate\", \"cost\", \"cost\", \"cost\", \"criterion\", \"crossfunctional\", \"customer\", \"cybersecurity\", \"daily\", \"data\", \"data\", \"database\", \"datum\", \"datum\", \"datum\", \"deep\", \"definition\", \"definition\", \"degree\", \"degree\", \"demonstrate\", \"demonstrate\", \"deploy\", \"deployment\", \"design\", \"desirable\", \"desire\", \"detail\", \"detailed\", \"develop\", \"develop\", \"develop\", \"develop\", \"development\", \"development\", \"development\", \"development\", \"device\", \"diagnostic\", \"digital\", \"digital\", \"discipline\", \"display\", \"distribution\", \"distribution\", \"document\", \"document\", \"document\", \"document\", \"domain\", \"drawing\", \"drive\", \"drive\", \"drive\", \"duty\", \"duty\", \"dynamic\", \"electric\", \"electrical\", \"electrical\", \"electrical\", \"electrical\", \"electrical\", \"electronic\", \"electronic\", \"emergency\", \"emergency\", \"employee\", \"employment\", \"energy\", \"energy\", \"engine\", \"ensure\", \"ensure\", \"enterprise\", \"environment\", \"environment\", \"environment\", \"equipment\", \"equipment\", \"equivalent\", \"essential\", \"estimate\", \"ethic\", \"event\", \"excellent\", \"execute\", \"execute\", \"execute\", \"execution\", \"execution\", \"execution\", \"experiment\", \"expertise\", \"external\", \"fabrication\", \"fabrication\", \"facility\", \"facility\", \"familiarity\", \"feasibility\", \"feature\", \"field\", \"field\", \"field\", \"field\", \"filter\", \"final\", \"financial\", \"flight\", \"follow\", \"follow\", \"follow\", \"follow\", \"follow\", \"fuel\", \"functional\", \"functional\", \"functional\", \"functional\", \"furniture\", \"future\", \"gain\", \"generation\", \"generation\", \"generator\", \"geotechnical\", \"good\", \"good\", \"good\", \"ground\", \"ground\", \"group\", \"group\", \"guest\", \"guestroom\", \"hardware\", \"hardware\", \"hardware\", \"high\", \"high\", \"high\", \"hotel\", \"house\", \"hydraulic\", \"identify\", \"identify\", \"implement\", \"implement\", \"implement\", \"implementation\", \"implementation\", \"implementation\", \"implementation\", \"improvement\", \"improvement\", \"indepth\", \"industrial\", \"infrastructure\", \"initiative\", \"inspect\", \"inspection\", \"installation\", \"instruction\", \"integrate\", \"integrate\", \"integrate\", \"integration\", \"integration\", \"interface\", \"interface\", \"interface\", \"internal\", \"interpersonal\", \"join\", \"key\", \"key\", \"knowledge\", \"knowledge\", \"knowledge\", \"knowledge\", \"lab\", \"laboratory\", \"laboratory\", \"language\", \"large\", \"large\", \"large\", \"launch\", \"layout\", \"lbs\", \"lbs\", \"lead\", \"lead\", \"leadership\", \"leadership\", \"level\", \"level\", \"level\", \"level\", \"level\", \"level\", \"license\", \"light\", \"limited\", \"list\", \"location\", \"look\", \"maintain\", \"maintain\", \"maintenance\", \"maintenance\", \"manage\", \"manage\", \"manage\", \"manage\", \"management\", \"management\", \"management\", \"management\", \"manager\", \"manner\", \"manufacture\", \"manufacturing\", \"material\", \"material\", \"material\", \"mechanical\", \"mechanical\", \"mechanical\", \"mechanism\", \"meet\", \"meet\", \"meet\", \"military\", \"minimum_year\", \"missile\", \"mission\", \"mission\", \"model\", \"model\", \"model\", \"model\", \"modeling\", \"modeling\", \"modeling\", \"monitor\", \"monitor\", \"monthly\", \"necessary\", \"need\", \"need\", \"need\", \"need\", \"network\", \"networking\", \"new\", \"obtain\", \"office\", \"operate\", \"operate\", \"operate\", \"operation\", \"operation\", \"operation\", \"optimization\", \"oral\", \"order\", \"order\", \"organization\", \"organizational\", \"overall\", \"package\", \"package\", \"painting\", \"panel\", \"part\", \"partner\", \"party\", \"performance\", \"performance\", \"performance\", \"performance\", \"permit\", \"personnel\", \"personnel\", \"phd\", \"pipeline\", \"pipeline\", \"plan\", \"plan\", \"plan\", \"plan\", \"planning\", \"planning\", \"planning\", \"planning\", \"plant\", \"platform\", \"plumb\", \"plumbing\", \"plus\", \"policy\", \"policy\", \"possess\", \"post\", \"power\", \"prefer\", \"prefer\", \"preparation\", \"preparation\", \"prepare\", \"prepare\", \"preventive\", \"principle\", \"principle\", \"problem\", \"problem\", \"problem\", \"problem\", \"procedure\", \"procedure\", \"procedure\", \"process\", \"process\", \"produce\", \"produce\", \"product\", \"production\", \"production\", \"productivity\", \"proficiency\", \"proficient\", \"proficient\", \"program\", \"program\", \"program\", \"programming\", \"progress\", \"project\", \"proper\", \"property\", \"protection\", \"prototype\", \"provide\", \"provide\", \"provide\", \"provide\", \"pump\", \"purpose\", \"push_pull\", \"push_pull\", \"quality\", \"quality\", \"quality\", \"record\", \"record\", \"recovery\", \"regulation\", \"regulatory\", \"relate\", \"relate\", \"relate\", \"relay\", \"relevant\", \"repair\", \"replace\", \"report\", \"report\", \"report\", \"report\", \"representative\", \"research\", \"research\", \"research\", \"research\", \"result\", \"result\", \"review\", \"review\", \"risk\", \"risk\", \"role\", \"role\", \"run\", \"safe\", \"safe\", \"safety\", \"salary\", \"schedule\", \"schedule\", \"schematic\", \"school\", \"school\", \"school\", \"science\", \"scope\", \"security\", \"seeker\", \"sensor\", \"serve\", \"serve\", \"server\", \"service\", \"service\", \"service\", \"service\", \"setting\", \"simulation\", \"site\", \"site\", \"skill\", \"skill\", \"skill\", \"skill\", \"skill\", \"software\", \"solid\", \"solution\", \"solution\", \"solve\", \"source\", \"space\", \"spacecraft\", \"specialized\", \"specification\", \"staff\", \"staff\", \"standard\", \"standard\", \"state\", \"stay\", \"stoop\", \"stoop\", \"storage\", \"strategy\", \"strategy\", \"stress\", \"strong\", \"structural\", \"structure\", \"structure\", \"study\", \"study\", \"subcontractor\", \"submittal\", \"substation\", \"subsystem\", \"supplier\", \"support\", \"support\", \"support\", \"sustainment\", \"system\", \"take\", \"task\", \"task\", \"task\", \"task\", \"task\", \"technical\", \"technical\", \"technician\", \"technique\", \"technique\", \"technology\", \"technology\", \"tenant\", \"test\", \"testing\", \"thermal\", \"thorough\", \"tool\", \"tool\", \"track\", \"trade\", \"traffic\", \"train\", \"training\", \"transmission\", \"transportation\", \"troubleshoot\", \"troubleshoot\", \"troubleshoot\", \"troubleshoot\", \"type\", \"type\", \"typical\", \"understand\", \"understand\", \"understand\", \"understand\", \"use\", \"use\", \"use\", \"use\", \"use\", \"user\", \"validate\", \"validate\", \"validate\", \"validation\", \"validation\", \"vehicle\", \"verbal\", \"verification\", \"verify\", \"verify\", \"visit\", \"water\", \"weapon\", \"willingness\", \"workstation\", \"world\", \"write\", \"write\", \"write\", \"write\", \"year\", \"year\", \"year\"]}, \"R\": 30, \"lambda.step\": 0.01, \"plot.opts\": {\"xlab\": \"PC1\", \"ylab\": \"PC2\"}, \"topic.order\": [3, 2, 6, 1, 4, 7, 5, 8]};\n",
       "\n",
       "function LDAvis_load_lib(url, callback){\n",
       "  var s = document.createElement('script');\n",
       "  s.src = url;\n",
       "  s.async = true;\n",
       "  s.onreadystatechange = s.onload = callback;\n",
       "  s.onerror = function(){console.warn(\"failed to load library \" + url);};\n",
       "  document.getElementsByTagName(\"head\")[0].appendChild(s);\n",
       "}\n",
       "\n",
       "if(typeof(LDAvis) !== \"undefined\"){\n",
       "   // already loaded: just create the visualization\n",
       "   !function(LDAvis){\n",
       "       new LDAvis(\"#\" + \"ldavis_el2975224386038301281449334748\", ldavis_el2975224386038301281449334748_data);\n",
       "   }(LDAvis);\n",
       "}else if(typeof define === \"function\" && define.amd){\n",
       "   // require.js is available: use it to load d3/LDAvis\n",
       "   require.config({paths: {d3: \"https://d3js.org/d3.v5\"}});\n",
       "   require([\"d3\"], function(d3){\n",
       "      window.d3 = d3;\n",
       "      LDAvis_load_lib(\"https://cdn.jsdelivr.net/gh/bmabey/pyLDAvis@3.4.0/pyLDAvis/js/ldavis.v3.0.0.js\", function(){\n",
       "        new LDAvis(\"#\" + \"ldavis_el2975224386038301281449334748\", ldavis_el2975224386038301281449334748_data);\n",
       "      });\n",
       "    });\n",
       "}else{\n",
       "    // require.js not available: dynamically load d3 & LDAvis\n",
       "    LDAvis_load_lib(\"https://d3js.org/d3.v5.js\", function(){\n",
       "         LDAvis_load_lib(\"https://cdn.jsdelivr.net/gh/bmabey/pyLDAvis@3.4.0/pyLDAvis/js/ldavis.v3.0.0.js\", function(){\n",
       "                 new LDAvis(\"#\" + \"ldavis_el2975224386038301281449334748\", ldavis_el2975224386038301281449334748_data);\n",
       "            })\n",
       "         });\n",
       "}\n",
       "</script>"
      ],
      "text/plain": [
       "PreparedData(topic_coordinates=              x         y  topics  cluster       Freq\n",
       "topic                                                \n",
       "2      0.028781  0.101852       1        1  26.011014\n",
       "1     -0.015185 -0.279885       2        1  22.307181\n",
       "5     -0.404727  0.017682       3        1  15.270537\n",
       "0     -0.237847  0.326899       4        1  12.488687\n",
       "3      0.298882 -0.272304       5        1  10.859600\n",
       "6      0.449844  0.068373       6        1   5.702577\n",
       "4      0.162506  0.424217       7        1   4.573974\n",
       "7     -0.282254 -0.386834       8        1   2.786429, topic_info=              Term          Freq         Total Category  logprob  loglift\n",
       "35          system  21318.000000  21318.000000  Default  30.0000  30.0000\n",
       "141        project  23916.000000  23916.000000  Default  29.0000  29.0000\n",
       "8           design  20563.000000  20563.000000  Default  28.0000  28.0000\n",
       "217           test   8038.000000   8038.000000  Default  27.0000  27.0000\n",
       "105      equipment   8229.000000   8229.000000  Default  26.0000  26.0000\n",
       "...            ...           ...           ...      ...      ...      ...\n",
       "639           safe    226.928435    673.335083   Topic8  -4.9421   2.4928\n",
       "415   troubleshoot    268.581976   1469.276972   Topic8  -4.7736   1.8810\n",
       "223          build    225.106611   1891.370846   Topic8  -4.9502   1.4519\n",
       "146          skill    247.117648   5644.004789   Topic8  -4.8569   0.4519\n",
       "1474          type    166.638673    432.415133   Topic8  -5.2509   2.6269\n",
       "\n",
       "[459 rows x 6 columns], token_table=      Topic      Freq     Term\n",
       "term                          \n",
       "77        1  0.331427  ability\n",
       "77        2  0.292459  ability\n",
       "77        4  0.376114  ability\n",
       "424       1  0.025635     able\n",
       "424       2  0.550919     able\n",
       "...     ...       ...      ...\n",
       "180       4  0.525856    write\n",
       "180       7  0.243452    write\n",
       "158       1  0.369682     year\n",
       "158       4  0.513495     year\n",
       "158       5  0.116751     year\n",
       "\n",
       "[649 rows x 3 columns], R=30, lambda_step=0.01, plot_opts={'xlab': 'PC1', 'ylab': 'PC2'}, topic_order=[3, 2, 6, 1, 4, 7, 5, 8])"
      ]
     },
     "execution_count": 22,
     "metadata": {},
     "output_type": "execute_result"
    }
   ],
   "source": [
    "pyLDAvis.enable_notebook()\n",
    "vis = pyLDAvis.gensim_models.prepare(lda_model, corpus, id2word, mds = \"mmds\")\n",
    "vis"
   ]
  },
  {
   "cell_type": "code",
   "execution_count": null,
   "id": "16a8ce42",
   "metadata": {},
   "outputs": [],
   "source": []
  }
 ],
 "metadata": {
  "kernelspec": {
   "display_name": "Python 3 (ipykernel)",
   "language": "python",
   "name": "python3"
  },
  "language_info": {
   "codemirror_mode": {
    "name": "ipython",
    "version": 3
   },
   "file_extension": ".py",
   "mimetype": "text/x-python",
   "name": "python",
   "nbconvert_exporter": "python",
   "pygments_lexer": "ipython3",
   "version": "3.10.13"
  }
 },
 "nbformat": 4,
 "nbformat_minor": 5
}
